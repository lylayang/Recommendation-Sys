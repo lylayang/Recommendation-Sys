{
 "cells": [
  {
   "cell_type": "code",
   "execution_count": 1,
   "metadata": {
    "collapsed": true
   },
   "outputs": [],
   "source": [
    "# manipulating dataframes\n",
    "import pandas as pd\n",
    "\n",
    "# visualizing libraries\n",
    "%matplotlib inline\n",
    "import matplotlib.pyplot as plt\n",
    "import seaborn as sns"
   ]
  },
  {
   "cell_type": "markdown",
   "metadata": {},
   "source": [
    "## load data"
   ]
  },
  {
   "cell_type": "code",
   "execution_count": 2,
   "metadata": {},
   "outputs": [
    {
     "data": {
      "text/html": [
       "<div>\n",
       "<style>\n",
       "    .dataframe thead tr:only-child th {\n",
       "        text-align: right;\n",
       "    }\n",
       "\n",
       "    .dataframe thead th {\n",
       "        text-align: left;\n",
       "    }\n",
       "\n",
       "    .dataframe tbody tr th {\n",
       "        vertical-align: top;\n",
       "    }\n",
       "</style>\n",
       "<table border=\"1\" class=\"dataframe\">\n",
       "  <thead>\n",
       "    <tr style=\"text-align: right;\">\n",
       "      <th></th>\n",
       "      <th>train_id</th>\n",
       "      <th>name</th>\n",
       "      <th>item_condition_id</th>\n",
       "      <th>category_name</th>\n",
       "      <th>brand_name</th>\n",
       "      <th>price</th>\n",
       "      <th>shipping</th>\n",
       "      <th>item_description</th>\n",
       "    </tr>\n",
       "  </thead>\n",
       "  <tbody>\n",
       "    <tr>\n",
       "      <th>0</th>\n",
       "      <td>0</td>\n",
       "      <td>MLB Cincinnati Reds T Shirt Size XL</td>\n",
       "      <td>3</td>\n",
       "      <td>Men/Tops/T-shirts</td>\n",
       "      <td>NaN</td>\n",
       "      <td>10.0</td>\n",
       "      <td>1</td>\n",
       "      <td>No description yet</td>\n",
       "    </tr>\n",
       "    <tr>\n",
       "      <th>1</th>\n",
       "      <td>1</td>\n",
       "      <td>Razer BlackWidow Chroma Keyboard</td>\n",
       "      <td>3</td>\n",
       "      <td>Electronics/Computers &amp; Tablets/Components &amp; P...</td>\n",
       "      <td>Razer</td>\n",
       "      <td>52.0</td>\n",
       "      <td>0</td>\n",
       "      <td>This keyboard is in great condition and works ...</td>\n",
       "    </tr>\n",
       "    <tr>\n",
       "      <th>2</th>\n",
       "      <td>2</td>\n",
       "      <td>AVA-VIV Blouse</td>\n",
       "      <td>1</td>\n",
       "      <td>Women/Tops &amp; Blouses/Blouse</td>\n",
       "      <td>Target</td>\n",
       "      <td>10.0</td>\n",
       "      <td>1</td>\n",
       "      <td>Adorable top with a hint of lace and a key hol...</td>\n",
       "    </tr>\n",
       "    <tr>\n",
       "      <th>3</th>\n",
       "      <td>3</td>\n",
       "      <td>Leather Horse Statues</td>\n",
       "      <td>1</td>\n",
       "      <td>Home/Home Décor/Home Décor Accents</td>\n",
       "      <td>NaN</td>\n",
       "      <td>35.0</td>\n",
       "      <td>1</td>\n",
       "      <td>New with tags. Leather horses. Retail for [rm]...</td>\n",
       "    </tr>\n",
       "    <tr>\n",
       "      <th>4</th>\n",
       "      <td>4</td>\n",
       "      <td>24K GOLD plated rose</td>\n",
       "      <td>1</td>\n",
       "      <td>Women/Jewelry/Necklaces</td>\n",
       "      <td>NaN</td>\n",
       "      <td>44.0</td>\n",
       "      <td>0</td>\n",
       "      <td>Complete with certificate of authenticity</td>\n",
       "    </tr>\n",
       "  </tbody>\n",
       "</table>\n",
       "</div>"
      ],
      "text/plain": [
       "   train_id                                 name  item_condition_id  \\\n",
       "0         0  MLB Cincinnati Reds T Shirt Size XL                  3   \n",
       "1         1     Razer BlackWidow Chroma Keyboard                  3   \n",
       "2         2                       AVA-VIV Blouse                  1   \n",
       "3         3                Leather Horse Statues                  1   \n",
       "4         4                 24K GOLD plated rose                  1   \n",
       "\n",
       "                                       category_name brand_name  price  \\\n",
       "0                                  Men/Tops/T-shirts        NaN   10.0   \n",
       "1  Electronics/Computers & Tablets/Components & P...      Razer   52.0   \n",
       "2                        Women/Tops & Blouses/Blouse     Target   10.0   \n",
       "3                 Home/Home Décor/Home Décor Accents        NaN   35.0   \n",
       "4                            Women/Jewelry/Necklaces        NaN   44.0   \n",
       "\n",
       "   shipping                                   item_description  \n",
       "0         1                                 No description yet  \n",
       "1         0  This keyboard is in great condition and works ...  \n",
       "2         1  Adorable top with a hint of lace and a key hol...  \n",
       "3         1  New with tags. Leather horses. Retail for [rm]...  \n",
       "4         0          Complete with certificate of authenticity  "
      ]
     },
     "execution_count": 2,
     "metadata": {},
     "output_type": "execute_result"
    }
   ],
   "source": [
    "mercari = pd.read_csv('train.tsv', delimiter='\\t')\n",
    "mercari.head()"
   ]
  },
  {
   "cell_type": "code",
   "execution_count": 3,
   "metadata": {},
   "outputs": [
    {
     "data": {
      "text/plain": [
       "(1482535, 8)"
      ]
     },
     "execution_count": 3,
     "metadata": {},
     "output_type": "execute_result"
    }
   ],
   "source": [
    "mercari.shape"
   ]
  },
  {
   "cell_type": "markdown",
   "metadata": {},
   "source": [
    "This is a big dataset with over a million rows, to make the analysis simpler and for demonstration purposes, I will use a subset."
   ]
  },
  {
   "cell_type": "code",
   "execution_count": 4,
   "metadata": {},
   "outputs": [],
   "source": [
    "mercari = mercari.sample(frac=0.1).reset_index(drop=True)"
   ]
  },
  {
   "cell_type": "code",
   "execution_count": 5,
   "metadata": {},
   "outputs": [
    {
     "data": {
      "text/plain": [
       "(148254, 8)"
      ]
     },
     "execution_count": 5,
     "metadata": {},
     "output_type": "execute_result"
    }
   ],
   "source": [
    "mercari.shape"
   ]
  },
  {
   "cell_type": "markdown",
   "metadata": {},
   "source": [
    "## check data types"
   ]
  },
  {
   "cell_type": "code",
   "execution_count": 6,
   "metadata": {},
   "outputs": [
    {
     "data": {
      "text/plain": [
       "train_id               int64\n",
       "name                  object\n",
       "item_condition_id      int64\n",
       "category_name         object\n",
       "brand_name            object\n",
       "price                float64\n",
       "shipping               int64\n",
       "item_description      object\n",
       "dtype: object"
      ]
     },
     "execution_count": 6,
     "metadata": {},
     "output_type": "execute_result"
    }
   ],
   "source": [
    "mercari.dtypes"
   ]
  },
  {
   "cell_type": "markdown",
   "metadata": {},
   "source": [
    "## visualize numerical data"
   ]
  },
  {
   "cell_type": "code",
   "execution_count": 7,
   "metadata": {},
   "outputs": [
    {
     "data": {
      "text/plain": [
       "array([[<matplotlib.axes._subplots.AxesSubplot object at 0x114234438>,\n",
       "        <matplotlib.axes._subplots.AxesSubplot object at 0x10882f7b8>],\n",
       "       [<matplotlib.axes._subplots.AxesSubplot object at 0x10889a048>,\n",
       "        <matplotlib.axes._subplots.AxesSubplot object at 0x111323828>]], dtype=object)"
      ]
     },
     "execution_count": 7,
     "metadata": {},
     "output_type": "execute_result"
    },
    {
     "data": {
      "image/png": "[encoded data removed]",
      "text/plain": [
       "<matplotlib.figure.Figure at 0x12fbb9c18>"
      ]
     },
     "metadata": {},
     "output_type": "display_data"
    }
   ],
   "source": [
    "mercari.hist(bins = 50)"
   ]
  },
  {
   "cell_type": "code",
   "execution_count": 8,
   "metadata": {},
   "outputs": [
    {
     "data": {
      "text/html": [
       "<div>\n",
       "<style>\n",
       "    .dataframe thead tr:only-child th {\n",
       "        text-align: right;\n",
       "    }\n",
       "\n",
       "    .dataframe thead th {\n",
       "        text-align: left;\n",
       "    }\n",
       "\n",
       "    .dataframe tbody tr th {\n",
       "        vertical-align: top;\n",
       "    }\n",
       "</style>\n",
       "<table border=\"1\" class=\"dataframe\">\n",
       "  <thead>\n",
       "    <tr style=\"text-align: right;\">\n",
       "      <th></th>\n",
       "      <th>train_id</th>\n",
       "      <th>item_condition_id</th>\n",
       "      <th>price</th>\n",
       "      <th>shipping</th>\n",
       "    </tr>\n",
       "  </thead>\n",
       "  <tbody>\n",
       "    <tr>\n",
       "      <th>count</th>\n",
       "      <td>1.482540e+05</td>\n",
       "      <td>148254.000000</td>\n",
       "      <td>148254.000000</td>\n",
       "      <td>148254.000000</td>\n",
       "    </tr>\n",
       "    <tr>\n",
       "      <th>mean</th>\n",
       "      <td>7.431633e+05</td>\n",
       "      <td>1.906707</td>\n",
       "      <td>26.756081</td>\n",
       "      <td>0.446403</td>\n",
       "    </tr>\n",
       "    <tr>\n",
       "      <th>std</th>\n",
       "      <td>4.273105e+05</td>\n",
       "      <td>0.901182</td>\n",
       "      <td>38.299505</td>\n",
       "      <td>0.497121</td>\n",
       "    </tr>\n",
       "    <tr>\n",
       "      <th>min</th>\n",
       "      <td>1.800000e+01</td>\n",
       "      <td>1.000000</td>\n",
       "      <td>0.000000</td>\n",
       "      <td>0.000000</td>\n",
       "    </tr>\n",
       "    <tr>\n",
       "      <th>25%</th>\n",
       "      <td>3.748862e+05</td>\n",
       "      <td>1.000000</td>\n",
       "      <td>10.000000</td>\n",
       "      <td>0.000000</td>\n",
       "    </tr>\n",
       "    <tr>\n",
       "      <th>50%</th>\n",
       "      <td>7.439970e+05</td>\n",
       "      <td>2.000000</td>\n",
       "      <td>17.000000</td>\n",
       "      <td>0.000000</td>\n",
       "    </tr>\n",
       "    <tr>\n",
       "      <th>75%</th>\n",
       "      <td>1.114320e+06</td>\n",
       "      <td>3.000000</td>\n",
       "      <td>29.000000</td>\n",
       "      <td>1.000000</td>\n",
       "    </tr>\n",
       "    <tr>\n",
       "      <th>max</th>\n",
       "      <td>1.482532e+06</td>\n",
       "      <td>5.000000</td>\n",
       "      <td>2009.000000</td>\n",
       "      <td>1.000000</td>\n",
       "    </tr>\n",
       "  </tbody>\n",
       "</table>\n",
       "</div>"
      ],
      "text/plain": [
       "           train_id  item_condition_id          price       shipping\n",
       "count  1.482540e+05      148254.000000  148254.000000  148254.000000\n",
       "mean   7.431633e+05           1.906707      26.756081       0.446403\n",
       "std    4.273105e+05           0.901182      38.299505       0.497121\n",
       "min    1.800000e+01           1.000000       0.000000       0.000000\n",
       "25%    3.748862e+05           1.000000      10.000000       0.000000\n",
       "50%    7.439970e+05           2.000000      17.000000       0.000000\n",
       "75%    1.114320e+06           3.000000      29.000000       1.000000\n",
       "max    1.482532e+06           5.000000    2009.000000       1.000000"
      ]
     },
     "execution_count": 8,
     "metadata": {},
     "output_type": "execute_result"
    }
   ],
   "source": [
    "mercari.describe()"
   ]
  },
  {
   "cell_type": "markdown",
   "metadata": {},
   "source": [
    "## check for missing data"
   ]
  },
  {
   "cell_type": "code",
   "execution_count": 9,
   "metadata": {},
   "outputs": [
    {
     "data": {
      "text/plain": [
       "train_id             148254\n",
       "name                 148254\n",
       "item_condition_id    148254\n",
       "category_name        147584\n",
       "brand_name            84917\n",
       "price                148254\n",
       "shipping             148254\n",
       "item_description     148254\n",
       "dtype: int64"
      ]
     },
     "execution_count": 9,
     "metadata": {},
     "output_type": "execute_result"
    }
   ],
   "source": [
    "mercari.count()"
   ]
  },
  {
   "cell_type": "markdown",
   "metadata": {},
   "source": [
    "## working with the item descriptions"
   ]
  },
  {
   "cell_type": "code",
   "execution_count": 10,
   "metadata": {},
   "outputs": [
    {
     "data": {
      "text/plain": [
       "'Mega Slowbro Ex Pokémon card from Evolutions set. Mint condition and put into sleeve right away. Will bundle with any other cards'"
      ]
     },
     "execution_count": 10,
     "metadata": {},
     "output_type": "execute_result"
    }
   ],
   "source": [
    "mercari.item_description[0]"
   ]
  },
  {
   "cell_type": "code",
   "execution_count": 11,
   "metadata": {},
   "outputs": [
    {
     "data": {
      "text/plain": [
       "\"Women's size Small and medium All included 3 Aeropostale relaxed fit T-shirts All 3 size Medium V-neck style White Gray Salmon Excellent condition Barely worn Gray Old Navy relaxed T-shirt Scoop neck Size Small Pink Cato relaxed fit casual shirt Needs an undershirt (see through) Size Small - fits like a Medium Light blue gap lightweight sweatshirt Crew neck Slight discoloration in armpit No waistband straight fit at bottom\""
      ]
     },
     "execution_count": 11,
     "metadata": {},
     "output_type": "execute_result"
    }
   ],
   "source": [
    "mercari.item_description[1]"
   ]
  },
  {
   "cell_type": "code",
   "execution_count": 12,
   "metadata": {},
   "outputs": [
    {
     "data": {
      "text/plain": [
       "\"NWT Sociology Women's Bra Sz. 42D Underwire & padded Free Shipping\""
      ]
     },
     "execution_count": 12,
     "metadata": {},
     "output_type": "execute_result"
    }
   ],
   "source": [
    "mercari.item_description[7]"
   ]
  },
  {
   "cell_type": "code",
   "execution_count": 13,
   "metadata": {},
   "outputs": [
    {
     "data": {
      "text/plain": [
       "'Set of 18 pale blue felt hangers! I have multiple listings for felt hangers so if you are interested I will bundle and we can work out a better price :)'"
      ]
     },
     "execution_count": 13,
     "metadata": {},
     "output_type": "execute_result"
    }
   ],
   "source": [
    "mercari.item_description[10]"
   ]
  },
  {
   "cell_type": "code",
   "execution_count": 14,
   "metadata": {
    "collapsed": true
   },
   "outputs": [],
   "source": [
    "mercari['item_description'] = mercari.item_description.fillna('')"
   ]
  },
  {
   "cell_type": "markdown",
   "metadata": {},
   "source": [
    "after looking at a few descriptions maybe the following will suffice:\n",
    "1. punctuation removal (and other random symbols)\n",
    "2. lowercase\n",
    "3. stop word removal\n",
    "4. remove digits\n",
    "\n",
    "let's start by removing puncuation"
   ]
  },
  {
   "cell_type": "markdown",
   "metadata": {},
   "source": [
    "## remove puncuation"
   ]
  },
  {
   "cell_type": "code",
   "execution_count": 15,
   "metadata": {
    "collapsed": true
   },
   "outputs": [],
   "source": [
    "from string import punctuation"
   ]
  },
  {
   "cell_type": "code",
   "execution_count": 16,
   "metadata": {},
   "outputs": [
    {
     "data": {
      "text/plain": [
       "'!\"#$%&\\'()*+,-./:;<=>?@[\\\\]^_`{|}~'"
      ]
     },
     "execution_count": 16,
     "metadata": {},
     "output_type": "execute_result"
    }
   ],
   "source": [
    "punctuation"
   ]
  },
  {
   "cell_type": "code",
   "execution_count": 17,
   "metadata": {},
   "outputs": [],
   "source": [
    "punctuation_symbols = []\n",
    "for each in list(punctuation):\n",
    "    punctuation_symbols.append((each, ''))"
   ]
  },
  {
   "cell_type": "code",
   "execution_count": 18,
   "metadata": {},
   "outputs": [
    {
     "data": {
      "text/plain": [
       "[('!', ''),\n",
       " ('\"', ''),\n",
       " ('#', ''),\n",
       " ('$', ''),\n",
       " ('%', ''),\n",
       " ('&', ''),\n",
       " (\"'\", ''),\n",
       " ('(', ''),\n",
       " (')', ''),\n",
       " ('*', ''),\n",
       " ('+', ''),\n",
       " (',', ''),\n",
       " ('-', ''),\n",
       " ('.', ''),\n",
       " ('/', ''),\n",
       " (':', ''),\n",
       " (';', ''),\n",
       " ('<', ''),\n",
       " ('=', ''),\n",
       " ('>', ''),\n",
       " ('?', ''),\n",
       " ('@', ''),\n",
       " ('[', ''),\n",
       " ('\\\\', ''),\n",
       " (']', ''),\n",
       " ('^', ''),\n",
       " ('_', ''),\n",
       " ('`', ''),\n",
       " ('{', ''),\n",
       " ('|', ''),\n",
       " ('}', ''),\n",
       " ('~', '')]"
      ]
     },
     "execution_count": 18,
     "metadata": {},
     "output_type": "execute_result"
    }
   ],
   "source": [
    "punctuation_symbols"
   ]
  },
  {
   "cell_type": "code",
   "execution_count": 19,
   "metadata": {
    "collapsed": true
   },
   "outputs": [],
   "source": [
    "def remove_puncuation(x):\n",
    "    for each in punctuation_symbols:\n",
    "        x = x.replace(*each)\n",
    "    return x"
   ]
  },
  {
   "cell_type": "code",
   "execution_count": 20,
   "metadata": {
    "collapsed": true
   },
   "outputs": [],
   "source": [
    "mercari['item_description'] = mercari.item_description.apply(remove_puncuation)"
   ]
  },
  {
   "cell_type": "markdown",
   "metadata": {},
   "source": [
    "## remove digits"
   ]
  },
  {
   "cell_type": "code",
   "execution_count": 21,
   "metadata": {
    "collapsed": true
   },
   "outputs": [],
   "source": [
    "def remove_digits(x):\n",
    "    x = ''.join([i for i in x if not i.isdigit()])\n",
    "    return x"
   ]
  },
  {
   "cell_type": "code",
   "execution_count": 22,
   "metadata": {
    "collapsed": true
   },
   "outputs": [],
   "source": [
    "mercari['item_description'] = mercari.item_description.apply(remove_digits)"
   ]
  },
  {
   "cell_type": "code",
   "execution_count": 23,
   "metadata": {},
   "outputs": [
    {
     "data": {
      "text/plain": [
       "0    Mega Slowbro Ex Pokémon card from Evolutions s...\n",
       "1    Womens size Small and medium All included  Aer...\n",
       "2    HEMPZ Body Lotion  only Used maybe like  times...\n",
       "3    Lularoe TC Leggings NEW with tags never worn o...\n",
       "4                                NWOT OS Made in China\n",
       "Name: item_description, dtype: object"
      ]
     },
     "execution_count": 23,
     "metadata": {},
     "output_type": "execute_result"
    }
   ],
   "source": [
    "mercari.item_description.head()"
   ]
  },
  {
   "cell_type": "markdown",
   "metadata": {},
   "source": [
    "## remove stop words"
   ]
  },
  {
   "cell_type": "code",
   "execution_count": 24,
   "metadata": {
    "collapsed": true
   },
   "outputs": [],
   "source": [
    "from nltk.corpus import stopwords"
   ]
  },
  {
   "cell_type": "code",
   "execution_count": 25,
   "metadata": {
    "collapsed": true
   },
   "outputs": [],
   "source": [
    "stop = stopwords.words('english')"
   ]
  },
  {
   "cell_type": "code",
   "execution_count": 26,
   "metadata": {
    "collapsed": true
   },
   "outputs": [],
   "source": [
    "def remove_stop_words(x):\n",
    "    x = ' '.join([i for i in x.lower().split(' ') if i not in stop])\n",
    "    return x"
   ]
  },
  {
   "cell_type": "code",
   "execution_count": 27,
   "metadata": {
    "collapsed": true
   },
   "outputs": [],
   "source": [
    "mercari['item_description'] = mercari.item_description.apply(remove_stop_words)"
   ]
  },
  {
   "cell_type": "code",
   "execution_count": 28,
   "metadata": {},
   "outputs": [],
   "source": [
    "# mercari.item_description[1482524]"
   ]
  },
  {
   "cell_type": "markdown",
   "metadata": {},
   "source": [
    "still not perfect..."
   ]
  },
  {
   "cell_type": "markdown",
   "metadata": {},
   "source": [
    "## make countvectorizer"
   ]
  },
  {
   "cell_type": "code",
   "execution_count": 29,
   "metadata": {
    "collapsed": true
   },
   "outputs": [],
   "source": [
    "from sklearn.feature_extraction.text import CountVectorizer"
   ]
  },
  {
   "cell_type": "code",
   "execution_count": 30,
   "metadata": {
    "collapsed": true
   },
   "outputs": [],
   "source": [
    "min_df = 0.01\n",
    "max_df = 0.90\n",
    "ngram_range = 2 # accounting for bi-grams"
   ]
  },
  {
   "cell_type": "code",
   "execution_count": 31,
   "metadata": {},
   "outputs": [
    {
     "name": "stdout",
     "output_type": "stream",
     "text": [
      "feature space will include words if they appear in a minimum of  1482\n",
      "feature space will include words if they appear in a maxiumum of  133428\n"
     ]
    }
   ],
   "source": [
    "print('feature space will include words if they appear in a minimum of ', int(min_df*len(mercari)))\n",
    "print('feature space will include words if they appear in a maxiumum of ', int(max_df*len(mercari)))"
   ]
  },
  {
   "cell_type": "code",
   "execution_count": 32,
   "metadata": {
    "collapsed": true
   },
   "outputs": [],
   "source": [
    "# instantiate\n",
    "countvec = CountVectorizer(stop_words='english', min_df=min_df, max_df=max_df, ngram_range=(0,2))"
   ]
  },
  {
   "cell_type": "code",
   "execution_count": 33,
   "metadata": {
    "collapsed": true
   },
   "outputs": [],
   "source": [
    "# fit and transform the item description\n",
    "countvec_matrix = countvec.fit_transform(mercari.item_description)"
   ]
  },
  {
   "cell_type": "code",
   "execution_count": 34,
   "metadata": {},
   "outputs": [
    {
     "data": {
      "text/plain": [
       "['adjustable',\n",
       " 'ask',\n",
       " 'authentic',\n",
       " 'available',\n",
       " 'baby',\n",
       " 'bag',\n",
       " 'beautiful',\n",
       " 'best',\n",
       " 'big',\n",
       " 'black',\n",
       " 'blue',\n",
       " 'body',\n",
       " 'bought',\n",
       " 'box',\n",
       " 'bra',\n",
       " 'brand',\n",
       " 'brand new',\n",
       " 'brown',\n",
       " 'bundle',\n",
       " 'bundle save',\n",
       " 'business',\n",
       " 'buy',\n",
       " 'case',\n",
       " 'check',\n",
       " 'check listings',\n",
       " 'clean',\n",
       " 'closet',\n",
       " 'color',\n",
       " 'colors',\n",
       " 'come',\n",
       " 'comes',\n",
       " 'comfortable',\n",
       " 'condition',\n",
       " 'cotton',\n",
       " 'couple',\n",
       " 'cream',\n",
       " 'cute',\n",
       " 'dark',\n",
       " 'day',\n",
       " 'days',\n",
       " 'description',\n",
       " 'design',\n",
       " 'different',\n",
       " 'dont',\n",
       " 'dress',\n",
       " 'easy',\n",
       " 'excellent',\n",
       " 'excellent condition',\n",
       " 'extra',\n",
       " 'fast',\n",
       " 'feel',\n",
       " 'feel free',\n",
       " 'firm',\n",
       " 'fit',\n",
       " 'fits',\n",
       " 'flaws',\n",
       " 'free',\n",
       " 'free home',\n",
       " 'free shipping',\n",
       " 'gently',\n",
       " 'gift',\n",
       " 'gold',\n",
       " 'good',\n",
       " 'good condition',\n",
       " 'gray',\n",
       " 'great',\n",
       " 'great condition',\n",
       " 'green',\n",
       " 'grey',\n",
       " 'high',\n",
       " 'high quality',\n",
       " 'holds',\n",
       " 'holes',\n",
       " 'home',\n",
       " 'im',\n",
       " 'inches',\n",
       " 'included',\n",
       " 'includes',\n",
       " 'inside',\n",
       " 'iphone',\n",
       " 'item',\n",
       " 'items',\n",
       " 'jacket',\n",
       " 'jeans',\n",
       " 'know',\n",
       " 'lace',\n",
       " 'large',\n",
       " 'leather',\n",
       " 'left',\n",
       " 'leggings',\n",
       " 'length',\n",
       " 'let',\n",
       " 'let know',\n",
       " 'light',\n",
       " 'like',\n",
       " 'like new',\n",
       " 'listing',\n",
       " 'listings',\n",
       " 'little',\n",
       " 'long',\n",
       " 'look',\n",
       " 'looking',\n",
       " 'lot',\n",
       " 'love',\n",
       " 'low',\n",
       " 'lularoe',\n",
       " 'make',\n",
       " 'makeup',\n",
       " 'material',\n",
       " 'medium',\n",
       " 'mens',\n",
       " 'message',\n",
       " 'mini',\n",
       " 'months',\n",
       " 'navy',\n",
       " 'need',\n",
       " 'new',\n",
       " 'new box',\n",
       " 'new tags',\n",
       " 'new used',\n",
       " 'new worn',\n",
       " 'nice',\n",
       " 'nike',\n",
       " 'note',\n",
       " 'nwt',\n",
       " 'offer',\n",
       " 'offers',\n",
       " 'open',\n",
       " 'opened',\n",
       " 'original',\n",
       " 'oz',\n",
       " 'package',\n",
       " 'packaging',\n",
       " 'pair',\n",
       " 'pants',\n",
       " 'perfect',\n",
       " 'perfect condition',\n",
       " 'pet',\n",
       " 'pet free',\n",
       " 'phone',\n",
       " 'pic',\n",
       " 'picture',\n",
       " 'pictures',\n",
       " 'piece',\n",
       " 'pink',\n",
       " 'plus',\n",
       " 'pocket',\n",
       " 'pockets',\n",
       " 'pretty',\n",
       " 'price',\n",
       " 'price firm',\n",
       " 'prices',\n",
       " 'print',\n",
       " 'product',\n",
       " 'purchase',\n",
       " 'purchased',\n",
       " 'purple',\n",
       " 'quality',\n",
       " 'questions',\n",
       " 'read',\n",
       " 'really',\n",
       " 'red',\n",
       " 'retail',\n",
       " 'retails',\n",
       " 'retails rm',\n",
       " 'rips',\n",
       " 'rm',\n",
       " 'sale',\n",
       " 'save',\n",
       " 'save shipping',\n",
       " 'scratches',\n",
       " 'sealed',\n",
       " 'secret',\n",
       " 'secret pink',\n",
       " 'selling',\n",
       " 'set',\n",
       " 'shape',\n",
       " 'ship',\n",
       " 'shipped',\n",
       " 'shipping',\n",
       " 'ships',\n",
       " 'shirt',\n",
       " 'shoes',\n",
       " 'shorts',\n",
       " 'shown',\n",
       " 'silver',\n",
       " 'size',\n",
       " 'size large',\n",
       " 'size medium',\n",
       " 'size small',\n",
       " 'sizes',\n",
       " 'skin',\n",
       " 'sleeve',\n",
       " 'small',\n",
       " 'smoke',\n",
       " 'smoke free',\n",
       " 'soft',\n",
       " 'sold',\n",
       " 'stains',\n",
       " 'style',\n",
       " 'super',\n",
       " 'super cute',\n",
       " 'sure',\n",
       " 'tag',\n",
       " 'tags',\n",
       " 'thank',\n",
       " 'thanks',\n",
       " 'time',\n",
       " 'times',\n",
       " 'tracking',\n",
       " 'twice',\n",
       " 'use',\n",
       " 'used',\n",
       " 'used condition',\n",
       " 'victorias',\n",
       " 'victorias secret',\n",
       " 'vs',\n",
       " 'waist',\n",
       " 'want',\n",
       " 'wash',\n",
       " 'washed',\n",
       " 'water',\n",
       " 'wear',\n",
       " 'white',\n",
       " 'womens',\n",
       " 'wore',\n",
       " 'work',\n",
       " 'works',\n",
       " 'worn',\n",
       " 'worn times',\n",
       " 'xl',\n",
       " 'xs',\n",
       " 'zip',\n",
       " 'zipper']"
      ]
     },
     "execution_count": 34,
     "metadata": {},
     "output_type": "execute_result"
    }
   ],
   "source": [
    "countvec.get_feature_names()"
   ]
  },
  {
   "cell_type": "markdown",
   "metadata": {},
   "source": [
    "note: the above will produce a sparce matrix "
   ]
  },
  {
   "cell_type": "code",
   "execution_count": 35,
   "metadata": {},
   "outputs": [
    {
     "data": {
      "text/html": [
       "<div>\n",
       "<style>\n",
       "    .dataframe thead tr:only-child th {\n",
       "        text-align: right;\n",
       "    }\n",
       "\n",
       "    .dataframe thead th {\n",
       "        text-align: left;\n",
       "    }\n",
       "\n",
       "    .dataframe tbody tr th {\n",
       "        vertical-align: top;\n",
       "    }\n",
       "</style>\n",
       "<table border=\"1\" class=\"dataframe\">\n",
       "  <thead>\n",
       "    <tr style=\"text-align: right;\">\n",
       "      <th></th>\n",
       "      <th>adjustable</th>\n",
       "      <th>ask</th>\n",
       "      <th>authentic</th>\n",
       "      <th>available</th>\n",
       "      <th>baby</th>\n",
       "      <th>bag</th>\n",
       "      <th>beautiful</th>\n",
       "      <th>best</th>\n",
       "      <th>big</th>\n",
       "      <th>black</th>\n",
       "      <th>...</th>\n",
       "      <th>womens</th>\n",
       "      <th>wore</th>\n",
       "      <th>work</th>\n",
       "      <th>works</th>\n",
       "      <th>worn</th>\n",
       "      <th>worn times</th>\n",
       "      <th>xl</th>\n",
       "      <th>xs</th>\n",
       "      <th>zip</th>\n",
       "      <th>zipper</th>\n",
       "    </tr>\n",
       "  </thead>\n",
       "  <tbody>\n",
       "    <tr>\n",
       "      <th>0</th>\n",
       "      <td>0</td>\n",
       "      <td>0</td>\n",
       "      <td>0</td>\n",
       "      <td>0</td>\n",
       "      <td>0</td>\n",
       "      <td>0</td>\n",
       "      <td>0</td>\n",
       "      <td>0</td>\n",
       "      <td>0</td>\n",
       "      <td>0</td>\n",
       "      <td>...</td>\n",
       "      <td>0</td>\n",
       "      <td>0</td>\n",
       "      <td>0</td>\n",
       "      <td>0</td>\n",
       "      <td>0</td>\n",
       "      <td>0</td>\n",
       "      <td>0</td>\n",
       "      <td>0</td>\n",
       "      <td>0</td>\n",
       "      <td>0</td>\n",
       "    </tr>\n",
       "    <tr>\n",
       "      <th>1</th>\n",
       "      <td>0</td>\n",
       "      <td>0</td>\n",
       "      <td>0</td>\n",
       "      <td>0</td>\n",
       "      <td>0</td>\n",
       "      <td>0</td>\n",
       "      <td>0</td>\n",
       "      <td>0</td>\n",
       "      <td>0</td>\n",
       "      <td>0</td>\n",
       "      <td>...</td>\n",
       "      <td>1</td>\n",
       "      <td>0</td>\n",
       "      <td>0</td>\n",
       "      <td>0</td>\n",
       "      <td>1</td>\n",
       "      <td>0</td>\n",
       "      <td>0</td>\n",
       "      <td>0</td>\n",
       "      <td>0</td>\n",
       "      <td>0</td>\n",
       "    </tr>\n",
       "    <tr>\n",
       "      <th>2</th>\n",
       "      <td>0</td>\n",
       "      <td>0</td>\n",
       "      <td>0</td>\n",
       "      <td>0</td>\n",
       "      <td>0</td>\n",
       "      <td>0</td>\n",
       "      <td>0</td>\n",
       "      <td>0</td>\n",
       "      <td>0</td>\n",
       "      <td>0</td>\n",
       "      <td>...</td>\n",
       "      <td>0</td>\n",
       "      <td>0</td>\n",
       "      <td>0</td>\n",
       "      <td>0</td>\n",
       "      <td>0</td>\n",
       "      <td>0</td>\n",
       "      <td>0</td>\n",
       "      <td>0</td>\n",
       "      <td>0</td>\n",
       "      <td>0</td>\n",
       "    </tr>\n",
       "    <tr>\n",
       "      <th>3</th>\n",
       "      <td>0</td>\n",
       "      <td>0</td>\n",
       "      <td>0</td>\n",
       "      <td>0</td>\n",
       "      <td>0</td>\n",
       "      <td>1</td>\n",
       "      <td>0</td>\n",
       "      <td>0</td>\n",
       "      <td>0</td>\n",
       "      <td>0</td>\n",
       "      <td>...</td>\n",
       "      <td>0</td>\n",
       "      <td>0</td>\n",
       "      <td>0</td>\n",
       "      <td>0</td>\n",
       "      <td>1</td>\n",
       "      <td>0</td>\n",
       "      <td>0</td>\n",
       "      <td>0</td>\n",
       "      <td>0</td>\n",
       "      <td>0</td>\n",
       "    </tr>\n",
       "    <tr>\n",
       "      <th>4</th>\n",
       "      <td>0</td>\n",
       "      <td>0</td>\n",
       "      <td>0</td>\n",
       "      <td>0</td>\n",
       "      <td>0</td>\n",
       "      <td>0</td>\n",
       "      <td>0</td>\n",
       "      <td>0</td>\n",
       "      <td>0</td>\n",
       "      <td>0</td>\n",
       "      <td>...</td>\n",
       "      <td>0</td>\n",
       "      <td>0</td>\n",
       "      <td>0</td>\n",
       "      <td>0</td>\n",
       "      <td>0</td>\n",
       "      <td>0</td>\n",
       "      <td>0</td>\n",
       "      <td>0</td>\n",
       "      <td>0</td>\n",
       "      <td>0</td>\n",
       "    </tr>\n",
       "  </tbody>\n",
       "</table>\n",
       "<p>5 rows × 234 columns</p>\n",
       "</div>"
      ],
      "text/plain": [
       "   adjustable  ask  authentic  available  baby  bag  beautiful  best  big  \\\n",
       "0           0    0          0          0     0    0          0     0    0   \n",
       "1           0    0          0          0     0    0          0     0    0   \n",
       "2           0    0          0          0     0    0          0     0    0   \n",
       "3           0    0          0          0     0    1          0     0    0   \n",
       "4           0    0          0          0     0    0          0     0    0   \n",
       "\n",
       "   black   ...    womens  wore  work  works  worn  worn times  xl  xs  zip  \\\n",
       "0      0   ...         0     0     0      0     0           0   0   0    0   \n",
       "1      0   ...         1     0     0      0     1           0   0   0    0   \n",
       "2      0   ...         0     0     0      0     0           0   0   0    0   \n",
       "3      0   ...         0     0     0      0     1           0   0   0    0   \n",
       "4      0   ...         0     0     0      0     0           0   0   0    0   \n",
       "\n",
       "   zipper  \n",
       "0       0  \n",
       "1       0  \n",
       "2       0  \n",
       "3       0  \n",
       "4       0  \n",
       "\n",
       "[5 rows x 234 columns]"
      ]
     },
     "execution_count": 35,
     "metadata": {},
     "output_type": "execute_result"
    }
   ],
   "source": [
    "feature_matrix = pd.DataFrame(countvec_matrix.toarray(), columns=countvec.get_feature_names())\n",
    "feature_matrix.head()"
   ]
  },
  {
   "cell_type": "markdown",
   "metadata": {},
   "source": [
    "## PCA to visualize"
   ]
  },
  {
   "cell_type": "markdown",
   "metadata": {},
   "source": [
    "the feature space of words is pretty small..we can still take this one step further to visualize, let's apply PCA"
   ]
  },
  {
   "cell_type": "code",
   "execution_count": 36,
   "metadata": {
    "collapsed": true
   },
   "outputs": [],
   "source": [
    "from sklearn.decomposition import PCA\n",
    "import time\n",
    "import numpy as np\n",
    "from sklearn.preprocessing import normalize"
   ]
  },
  {
   "cell_type": "code",
   "execution_count": 37,
   "metadata": {},
   "outputs": [],
   "source": [
    "# tsvd = TruncatedSVD(n_components=2)\n",
    "\n",
    "# time1 = time.time()\n",
    "# tsvd.fit(countvec_matrix)\n",
    "# time2 = time.time()\n",
    "# print(time2-time1)\n",
    "\n",
    "# vectors = tsvd.transform(countvec_matrix)\n",
    "\n",
    "# vectors = normalize(vectors)"
   ]
  },
  {
   "cell_type": "code",
   "execution_count": 38,
   "metadata": {},
   "outputs": [],
   "source": [
    "pca = PCA(n_components=2)\n",
    "vectors = pca.fit_transform(feature_matrix)"
   ]
  },
  {
   "cell_type": "code",
   "execution_count": 39,
   "metadata": {},
   "outputs": [
    {
     "data": {
      "text/plain": [
       "0.1222378275797895"
      ]
     },
     "execution_count": 39,
     "metadata": {},
     "output_type": "execute_result"
    }
   ],
   "source": [
    "np.sum(pca.explained_variance_ratio_)"
   ]
  },
  {
   "cell_type": "code",
   "execution_count": 40,
   "metadata": {},
   "outputs": [
    {
     "name": "stdout",
     "output_type": "stream",
     "text": [
      "[ 0.07322124  0.04901659]\n"
     ]
    }
   ],
   "source": [
    "print(pca.explained_variance_ratio_)"
   ]
  },
  {
   "cell_type": "code",
   "execution_count": 47,
   "metadata": {},
   "outputs": [
    {
     "data": {
      "text/plain": [
       "<matplotlib.text.Text at 0x11e2fb4e0>"
      ]
     },
     "execution_count": 47,
     "metadata": {},
     "output_type": "execute_result"
    },
    {
     "data": {
      "image/png": "[encoded data removed]",
      "text/plain": [
       "<matplotlib.figure.Figure at 0x131201080>"
      ]
     },
     "metadata": {},
     "output_type": "display_data"
    }
   ],
   "source": [
    "fig, ax = plt.subplots()\n",
    "plt.scatter(vectors[:, 0], vectors[:, 1], s=50, cmap='viridis', alpha=0.4)\n",
    "plt.title('PCA Visualization of Mercari Item Description')\n",
    "plt.xlabel('PC 1')\n",
    "plt.ylabel('PC 2')"
   ]
  },
  {
   "cell_type": "markdown",
   "metadata": {},
   "source": [
    "# validation using clustering"
   ]
  },
  {
   "cell_type": "code",
   "execution_count": 42,
   "metadata": {
    "collapsed": true
   },
   "outputs": [],
   "source": [
    "from sklearn.cluster import KMeans"
   ]
  },
  {
   "cell_type": "code",
   "execution_count": 43,
   "metadata": {},
   "outputs": [],
   "source": [
    "n_clusters = 6\n",
    "kmeans = KMeans(n_clusters=n_clusters, random_state=0).fit(vectors)\n",
    "centroids = pd.DataFrame(kmeans.cluster_centers_)\n",
    "y_kmeans = kmeans.predict(vectors)"
   ]
  },
  {
   "cell_type": "code",
   "execution_count": 44,
   "metadata": {
    "collapsed": true
   },
   "outputs": [],
   "source": [
    "mercari['cluster_affiliation'] = y_kmeans"
   ]
  },
  {
   "cell_type": "code",
   "execution_count": 45,
   "metadata": {},
   "outputs": [
    {
     "data": {
      "image/png": "[encoded data removed]",
      "text/plain": [
       "<matplotlib.figure.Figure at 0x131831860>"
      ]
     },
     "metadata": {},
     "output_type": "display_data"
    }
   ],
   "source": [
    "fig, ax = plt.subplots()\n",
    "plt.scatter(vectors[:, 0], vectors[:, 1], c=y_kmeans, s=50, cmap='viridis', alpha=0.4)\n",
    "\n",
    "centers = kmeans.cluster_centers_\n",
    "plt.scatter(centers[:, 0], centers[:, 1], c='black', s=250, alpha=0.5);"
   ]
  }
 ],
 "metadata": {
  "kernelspec": {
   "display_name": "Python [conda root]",
   "language": "python",
   "name": "conda-root-py"
  },
  "language_info": {
   "codemirror_mode": {
    "name": "ipython",
    "version": 3
   },
   "file_extension": ".py",
   "mimetype": "text/x-python",
   "name": "python",
   "nbconvert_exporter": "python",
   "pygments_lexer": "ipython3",
   "version": "3.6.0"
  }
 },
 "nbformat": 4,
 "nbformat_minor": 2
}
