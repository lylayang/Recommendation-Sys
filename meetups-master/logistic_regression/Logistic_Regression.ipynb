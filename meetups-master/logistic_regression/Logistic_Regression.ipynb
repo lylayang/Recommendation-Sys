{
 "cells": [
  {
   "cell_type": "code",
   "execution_count": 97,
   "metadata": {},
   "outputs": [],
   "source": [
    "import pandas as pd\n",
    "import numpy as np\n",
    "import statsmodels.api as sm\n",
    "from sklearn.metrics import roc_auc_score\n",
    "from sklearn.metrics import roc_curve\n",
    "from sklearn import preprocessing\n",
    "from sklearn.linear_model import LogisticRegression\n",
    "from sklearn import metrics\n",
    "from sklearn.metrics import classification_report\n",
    "import matplotlib.pyplot as plt \n",
    "from sklearn import model_selection\n",
    "from sklearn.model_selection import cross_val_score\n",
    "from sklearn.metrics import confusion_matrix\n",
    "from sklearn.linear_model import LogisticRegression\n",
    "from sklearn.model_selection import train_test_split\n",
    "from sklearn import datasets\n",
    "from sklearn.feature_selection import RFE\n",
    "from sklearn.linear_model import LogisticRegression\n",
    "import seaborn as sns"
   ]
  },
  {
   "cell_type": "code",
   "execution_count": 98,
   "metadata": {},
   "outputs": [],
   "source": [
    "data = pd.read_csv('banking.csv', header=0)"
   ]
  },
  {
   "cell_type": "code",
   "execution_count": 99,
   "metadata": {},
   "outputs": [],
   "source": [
    "data = data.dropna()"
   ]
  },
  {
   "cell_type": "code",
   "execution_count": 100,
   "metadata": {},
   "outputs": [
    {
     "name": "stdout",
     "output_type": "stream",
     "text": [
      "(41188, 21)\n"
     ]
    }
   ],
   "source": [
    "print(data.shape)"
   ]
  },
  {
   "cell_type": "code",
   "execution_count": 101,
   "metadata": {},
   "outputs": [
    {
     "name": "stdout",
     "output_type": "stream",
     "text": [
      "['age', 'job', 'marital', 'education', 'default', 'housing', 'loan', 'contact', 'month', 'day_of_week', 'duration', 'campaign', 'pdays', 'previous', 'poutcome', 'emp_var_rate', 'cons_price_idx', 'cons_conf_idx', 'euribor3m', 'nr_employed', 'y']\n"
     ]
    }
   ],
   "source": [
    "print(list(data.columns))"
   ]
  },
  {
   "cell_type": "code",
   "execution_count": 102,
   "metadata": {},
   "outputs": [
    {
     "data": {
      "text/html": [
       "<div>\n",
       "<table border=\"1\" class=\"dataframe\">\n",
       "  <thead>\n",
       "    <tr style=\"text-align: right;\">\n",
       "      <th></th>\n",
       "      <th>age</th>\n",
       "      <th>job</th>\n",
       "      <th>marital</th>\n",
       "      <th>education</th>\n",
       "      <th>default</th>\n",
       "      <th>housing</th>\n",
       "      <th>loan</th>\n",
       "      <th>contact</th>\n",
       "      <th>month</th>\n",
       "      <th>day_of_week</th>\n",
       "      <th>...</th>\n",
       "      <th>campaign</th>\n",
       "      <th>pdays</th>\n",
       "      <th>previous</th>\n",
       "      <th>poutcome</th>\n",
       "      <th>emp_var_rate</th>\n",
       "      <th>cons_price_idx</th>\n",
       "      <th>cons_conf_idx</th>\n",
       "      <th>euribor3m</th>\n",
       "      <th>nr_employed</th>\n",
       "      <th>y</th>\n",
       "    </tr>\n",
       "  </thead>\n",
       "  <tbody>\n",
       "    <tr>\n",
       "      <th>0</th>\n",
       "      <td>44</td>\n",
       "      <td>blue-collar</td>\n",
       "      <td>married</td>\n",
       "      <td>basic.4y</td>\n",
       "      <td>unknown</td>\n",
       "      <td>yes</td>\n",
       "      <td>no</td>\n",
       "      <td>cellular</td>\n",
       "      <td>aug</td>\n",
       "      <td>thu</td>\n",
       "      <td>...</td>\n",
       "      <td>1</td>\n",
       "      <td>999</td>\n",
       "      <td>0</td>\n",
       "      <td>nonexistent</td>\n",
       "      <td>1.4</td>\n",
       "      <td>93.444</td>\n",
       "      <td>-36.1</td>\n",
       "      <td>4.963</td>\n",
       "      <td>5228.1</td>\n",
       "      <td>0</td>\n",
       "    </tr>\n",
       "    <tr>\n",
       "      <th>1</th>\n",
       "      <td>53</td>\n",
       "      <td>technician</td>\n",
       "      <td>married</td>\n",
       "      <td>unknown</td>\n",
       "      <td>no</td>\n",
       "      <td>no</td>\n",
       "      <td>no</td>\n",
       "      <td>cellular</td>\n",
       "      <td>nov</td>\n",
       "      <td>fri</td>\n",
       "      <td>...</td>\n",
       "      <td>1</td>\n",
       "      <td>999</td>\n",
       "      <td>0</td>\n",
       "      <td>nonexistent</td>\n",
       "      <td>-0.1</td>\n",
       "      <td>93.200</td>\n",
       "      <td>-42.0</td>\n",
       "      <td>4.021</td>\n",
       "      <td>5195.8</td>\n",
       "      <td>0</td>\n",
       "    </tr>\n",
       "    <tr>\n",
       "      <th>2</th>\n",
       "      <td>28</td>\n",
       "      <td>management</td>\n",
       "      <td>single</td>\n",
       "      <td>university.degree</td>\n",
       "      <td>no</td>\n",
       "      <td>yes</td>\n",
       "      <td>no</td>\n",
       "      <td>cellular</td>\n",
       "      <td>jun</td>\n",
       "      <td>thu</td>\n",
       "      <td>...</td>\n",
       "      <td>3</td>\n",
       "      <td>6</td>\n",
       "      <td>2</td>\n",
       "      <td>success</td>\n",
       "      <td>-1.7</td>\n",
       "      <td>94.055</td>\n",
       "      <td>-39.8</td>\n",
       "      <td>0.729</td>\n",
       "      <td>4991.6</td>\n",
       "      <td>1</td>\n",
       "    </tr>\n",
       "    <tr>\n",
       "      <th>3</th>\n",
       "      <td>39</td>\n",
       "      <td>services</td>\n",
       "      <td>married</td>\n",
       "      <td>high.school</td>\n",
       "      <td>no</td>\n",
       "      <td>no</td>\n",
       "      <td>no</td>\n",
       "      <td>cellular</td>\n",
       "      <td>apr</td>\n",
       "      <td>fri</td>\n",
       "      <td>...</td>\n",
       "      <td>2</td>\n",
       "      <td>999</td>\n",
       "      <td>0</td>\n",
       "      <td>nonexistent</td>\n",
       "      <td>-1.8</td>\n",
       "      <td>93.075</td>\n",
       "      <td>-47.1</td>\n",
       "      <td>1.405</td>\n",
       "      <td>5099.1</td>\n",
       "      <td>0</td>\n",
       "    </tr>\n",
       "    <tr>\n",
       "      <th>4</th>\n",
       "      <td>55</td>\n",
       "      <td>retired</td>\n",
       "      <td>married</td>\n",
       "      <td>basic.4y</td>\n",
       "      <td>no</td>\n",
       "      <td>yes</td>\n",
       "      <td>no</td>\n",
       "      <td>cellular</td>\n",
       "      <td>aug</td>\n",
       "      <td>fri</td>\n",
       "      <td>...</td>\n",
       "      <td>1</td>\n",
       "      <td>3</td>\n",
       "      <td>1</td>\n",
       "      <td>success</td>\n",
       "      <td>-2.9</td>\n",
       "      <td>92.201</td>\n",
       "      <td>-31.4</td>\n",
       "      <td>0.869</td>\n",
       "      <td>5076.2</td>\n",
       "      <td>1</td>\n",
       "    </tr>\n",
       "  </tbody>\n",
       "</table>\n",
       "<p>5 rows × 21 columns</p>\n",
       "</div>"
      ],
      "text/plain": [
       "   age          job  marital          education  default housing loan  \\\n",
       "0   44  blue-collar  married           basic.4y  unknown     yes   no   \n",
       "1   53   technician  married            unknown       no      no   no   \n",
       "2   28   management   single  university.degree       no     yes   no   \n",
       "3   39     services  married        high.school       no      no   no   \n",
       "4   55      retired  married           basic.4y       no     yes   no   \n",
       "\n",
       "    contact month day_of_week ...  campaign  pdays  previous     poutcome  \\\n",
       "0  cellular   aug         thu ...         1    999         0  nonexistent   \n",
       "1  cellular   nov         fri ...         1    999         0  nonexistent   \n",
       "2  cellular   jun         thu ...         3      6         2      success   \n",
       "3  cellular   apr         fri ...         2    999         0  nonexistent   \n",
       "4  cellular   aug         fri ...         1      3         1      success   \n",
       "\n",
       "  emp_var_rate  cons_price_idx  cons_conf_idx  euribor3m  nr_employed  y  \n",
       "0          1.4          93.444          -36.1      4.963       5228.1  0  \n",
       "1         -0.1          93.200          -42.0      4.021       5195.8  0  \n",
       "2         -1.7          94.055          -39.8      0.729       4991.6  1  \n",
       "3         -1.8          93.075          -47.1      1.405       5099.1  0  \n",
       "4         -2.9          92.201          -31.4      0.869       5076.2  1  \n",
       "\n",
       "[5 rows x 21 columns]"
      ]
     },
     "execution_count": 102,
     "metadata": {},
     "output_type": "execute_result"
    }
   ],
   "source": [
    "data.head()"
   ]
  },
  {
   "cell_type": "code",
   "execution_count": 103,
   "metadata": {},
   "outputs": [
    {
     "data": {
      "text/plain": [
       "array(['basic.4y', 'unknown', 'university.degree', 'high.school',\n",
       "       'basic.9y', 'professional.course', 'basic.6y', 'illiterate'], dtype=object)"
      ]
     },
     "execution_count": 103,
     "metadata": {},
     "output_type": "execute_result"
    }
   ],
   "source": [
    "data.education.unique()"
   ]
  },
  {
   "cell_type": "code",
   "execution_count": 104,
   "metadata": {},
   "outputs": [],
   "source": [
    "data.education = data.education.replace('basic.9y', 'Basic')\n",
    "data.education = data.education.replace('basic.6y', 'Basic')\n",
    "data.education = data.education.replace('basic.4y', 'Basic')"
   ]
  },
  {
   "cell_type": "code",
   "execution_count": 105,
   "metadata": {},
   "outputs": [
    {
     "data": {
      "text/plain": [
       "array(['Basic', 'unknown', 'university.degree', 'high.school',\n",
       "       'professional.course', 'illiterate'], dtype=object)"
      ]
     },
     "execution_count": 105,
     "metadata": {},
     "output_type": "execute_result"
    }
   ],
   "source": [
    "data.education.unique()"
   ]
  },
  {
   "cell_type": "code",
   "execution_count": 106,
   "metadata": {},
   "outputs": [
    {
     "data": {
      "text/plain": [
       "0    36548\n",
       "1     4640\n",
       "Name: y, dtype: int64"
      ]
     },
     "execution_count": 106,
     "metadata": {},
     "output_type": "execute_result"
    }
   ],
   "source": [
    "data.y.value_counts()"
   ]
  },
  {
   "cell_type": "code",
   "execution_count": 107,
   "metadata": {},
   "outputs": [
    {
     "data": {
      "image/png": "[encoded data removed]",
      "text/plain": [
       "<matplotlib.figure.Figure at 0x7f6a41b1cdd8>"
      ]
     },
     "metadata": {},
     "output_type": "display_data"
    }
   ],
   "source": [
    "sns.countplot(x = 'y', data = data, order = data.y.value_counts().index)\n",
    "plt.show()"
   ]
  },
  {
   "cell_type": "code",
   "execution_count": 108,
   "metadata": {},
   "outputs": [
    {
     "data": {
      "text/html": [
       "<div>\n",
       "<table border=\"1\" class=\"dataframe\">\n",
       "  <thead>\n",
       "    <tr style=\"text-align: right;\">\n",
       "      <th></th>\n",
       "      <th>age</th>\n",
       "      <th>duration</th>\n",
       "      <th>campaign</th>\n",
       "      <th>pdays</th>\n",
       "      <th>previous</th>\n",
       "      <th>emp_var_rate</th>\n",
       "      <th>cons_price_idx</th>\n",
       "      <th>cons_conf_idx</th>\n",
       "      <th>euribor3m</th>\n",
       "      <th>nr_employed</th>\n",
       "    </tr>\n",
       "    <tr>\n",
       "      <th>y</th>\n",
       "      <th></th>\n",
       "      <th></th>\n",
       "      <th></th>\n",
       "      <th></th>\n",
       "      <th></th>\n",
       "      <th></th>\n",
       "      <th></th>\n",
       "      <th></th>\n",
       "      <th></th>\n",
       "      <th></th>\n",
       "    </tr>\n",
       "  </thead>\n",
       "  <tbody>\n",
       "    <tr>\n",
       "      <th>0</th>\n",
       "      <td>39.911185</td>\n",
       "      <td>220.844807</td>\n",
       "      <td>2.633085</td>\n",
       "      <td>984.113878</td>\n",
       "      <td>0.132374</td>\n",
       "      <td>0.248875</td>\n",
       "      <td>93.603757</td>\n",
       "      <td>-40.593097</td>\n",
       "      <td>3.811491</td>\n",
       "      <td>5176.166600</td>\n",
       "    </tr>\n",
       "    <tr>\n",
       "      <th>1</th>\n",
       "      <td>40.913147</td>\n",
       "      <td>553.191164</td>\n",
       "      <td>2.051724</td>\n",
       "      <td>792.035560</td>\n",
       "      <td>0.492672</td>\n",
       "      <td>-1.233448</td>\n",
       "      <td>93.354386</td>\n",
       "      <td>-39.789784</td>\n",
       "      <td>2.123135</td>\n",
       "      <td>5095.115991</td>\n",
       "    </tr>\n",
       "  </tbody>\n",
       "</table>\n",
       "</div>"
      ],
      "text/plain": [
       "         age    duration  campaign       pdays  previous  emp_var_rate  \\\n",
       "y                                                                        \n",
       "0  39.911185  220.844807  2.633085  984.113878  0.132374      0.248875   \n",
       "1  40.913147  553.191164  2.051724  792.035560  0.492672     -1.233448   \n",
       "\n",
       "   cons_price_idx  cons_conf_idx  euribor3m  nr_employed  \n",
       "y                                                         \n",
       "0       93.603757     -40.593097   3.811491  5176.166600  \n",
       "1       93.354386     -39.789784   2.123135  5095.115991  "
      ]
     },
     "execution_count": 108,
     "metadata": {},
     "output_type": "execute_result"
    }
   ],
   "source": [
    "data.groupby('y').mean()"
   ]
  },
  {
   "cell_type": "code",
   "execution_count": 109,
   "metadata": {},
   "outputs": [
    {
     "data": {
      "text/html": [
       "<div>\n",
       "<table border=\"1\" class=\"dataframe\">\n",
       "  <thead>\n",
       "    <tr style=\"text-align: right;\">\n",
       "      <th></th>\n",
       "      <th></th>\n",
       "      <th>age</th>\n",
       "      <th>duration</th>\n",
       "      <th>campaign</th>\n",
       "      <th>pdays</th>\n",
       "      <th>previous</th>\n",
       "      <th>emp_var_rate</th>\n",
       "      <th>cons_price_idx</th>\n",
       "      <th>cons_conf_idx</th>\n",
       "      <th>euribor3m</th>\n",
       "      <th>nr_employed</th>\n",
       "    </tr>\n",
       "    <tr>\n",
       "      <th>y</th>\n",
       "      <th>job</th>\n",
       "      <th></th>\n",
       "      <th></th>\n",
       "      <th></th>\n",
       "      <th></th>\n",
       "      <th></th>\n",
       "      <th></th>\n",
       "      <th></th>\n",
       "      <th></th>\n",
       "      <th></th>\n",
       "      <th></th>\n",
       "    </tr>\n",
       "  </thead>\n",
       "  <tbody>\n",
       "    <tr>\n",
       "      <th rowspan=\"12\" valign=\"top\">0</th>\n",
       "      <th>admin.</th>\n",
       "      <td>38.219846</td>\n",
       "      <td>215.093385</td>\n",
       "      <td>2.707718</td>\n",
       "      <td>981.270783</td>\n",
       "      <td>0.141125</td>\n",
       "      <td>0.224068</td>\n",
       "      <td>93.566030</td>\n",
       "      <td>-40.349768</td>\n",
       "      <td>3.786567</td>\n",
       "      <td>5175.512051</td>\n",
       "    </tr>\n",
       "    <tr>\n",
       "      <th>blue-collar</th>\n",
       "      <td>39.582057</td>\n",
       "      <td>229.878018</td>\n",
       "      <td>2.588208</td>\n",
       "      <td>991.516365</td>\n",
       "      <td>0.111653</td>\n",
       "      <td>0.303552</td>\n",
       "      <td>93.668887</td>\n",
       "      <td>-41.346565</td>\n",
       "      <td>3.835402</td>\n",
       "      <td>5178.296031</td>\n",
       "    </tr>\n",
       "    <tr>\n",
       "      <th>entrepreneur</th>\n",
       "      <td>41.703453</td>\n",
       "      <td>225.632883</td>\n",
       "      <td>2.579580</td>\n",
       "      <td>987.813814</td>\n",
       "      <td>0.128378</td>\n",
       "      <td>0.242868</td>\n",
       "      <td>93.626245</td>\n",
       "      <td>-41.319820</td>\n",
       "      <td>3.881632</td>\n",
       "      <td>5180.205631</td>\n",
       "    </tr>\n",
       "    <tr>\n",
       "      <th>housemaid</th>\n",
       "      <td>44.705451</td>\n",
       "      <td>218.778826</td>\n",
       "      <td>2.722222</td>\n",
       "      <td>986.491614</td>\n",
       "      <td>0.089099</td>\n",
       "      <td>0.641300</td>\n",
       "      <td>93.712759</td>\n",
       "      <td>-39.626834</td>\n",
       "      <td>4.243082</td>\n",
       "      <td>5190.553249</td>\n",
       "    </tr>\n",
       "    <tr>\n",
       "      <th>management</th>\n",
       "      <td>42.309707</td>\n",
       "      <td>220.828197</td>\n",
       "      <td>2.532357</td>\n",
       "      <td>984.848613</td>\n",
       "      <td>0.140986</td>\n",
       "      <td>0.141217</td>\n",
       "      <td>93.550062</td>\n",
       "      <td>-40.619992</td>\n",
       "      <td>3.785477</td>\n",
       "      <td>5175.037442</td>\n",
       "    </tr>\n",
       "    <tr>\n",
       "      <th>retired</th>\n",
       "      <td>59.926128</td>\n",
       "      <td>224.263608</td>\n",
       "      <td>2.657076</td>\n",
       "      <td>960.369362</td>\n",
       "      <td>0.212286</td>\n",
       "      <td>-0.283904</td>\n",
       "      <td>93.493273</td>\n",
       "      <td>-38.920762</td>\n",
       "      <td>3.249794</td>\n",
       "      <td>5146.043313</td>\n",
       "    </tr>\n",
       "    <tr>\n",
       "      <th>self-employed</th>\n",
       "      <td>40.176887</td>\n",
       "      <td>222.220912</td>\n",
       "      <td>2.724843</td>\n",
       "      <td>988.073113</td>\n",
       "      <td>0.123428</td>\n",
       "      <td>0.242610</td>\n",
       "      <td>93.591786</td>\n",
       "      <td>-40.501022</td>\n",
       "      <td>3.854206</td>\n",
       "      <td>5177.958019</td>\n",
       "    </tr>\n",
       "    <tr>\n",
       "      <th>services</th>\n",
       "      <td>38.090236</td>\n",
       "      <td>225.047998</td>\n",
       "      <td>2.619309</td>\n",
       "      <td>991.091607</td>\n",
       "      <td>0.136314</td>\n",
       "      <td>0.256720</td>\n",
       "      <td>93.650433</td>\n",
       "      <td>-41.327537</td>\n",
       "      <td>3.793805</td>\n",
       "      <td>5176.038069</td>\n",
       "    </tr>\n",
       "    <tr>\n",
       "      <th>student</th>\n",
       "      <td>26.396667</td>\n",
       "      <td>228.851667</td>\n",
       "      <td>2.238333</td>\n",
       "      <td>924.596667</td>\n",
       "      <td>0.395000</td>\n",
       "      <td>-1.133167</td>\n",
       "      <td>93.350790</td>\n",
       "      <td>-40.751500</td>\n",
       "      <td>2.208683</td>\n",
       "      <td>5104.507500</td>\n",
       "    </tr>\n",
       "    <tr>\n",
       "      <th>technician</th>\n",
       "      <td>38.600033</td>\n",
       "      <td>213.452021</td>\n",
       "      <td>2.641776</td>\n",
       "      <td>985.135540</td>\n",
       "      <td>0.111093</td>\n",
       "      <td>0.441693</td>\n",
       "      <td>93.584196</td>\n",
       "      <td>-39.918310</td>\n",
       "      <td>4.012318</td>\n",
       "      <td>5184.951705</td>\n",
       "    </tr>\n",
       "    <tr>\n",
       "      <th>unemployed</th>\n",
       "      <td>39.844828</td>\n",
       "      <td>212.706897</td>\n",
       "      <td>2.668966</td>\n",
       "      <td>973.879310</td>\n",
       "      <td>0.131034</td>\n",
       "      <td>0.147241</td>\n",
       "      <td>93.604369</td>\n",
       "      <td>-40.193908</td>\n",
       "      <td>3.775461</td>\n",
       "      <td>5172.245172</td>\n",
       "    </tr>\n",
       "    <tr>\n",
       "      <th>unknown</th>\n",
       "      <td>45.375427</td>\n",
       "      <td>204.559727</td>\n",
       "      <td>2.679181</td>\n",
       "      <td>954.873720</td>\n",
       "      <td>0.095563</td>\n",
       "      <td>0.555290</td>\n",
       "      <td>93.748703</td>\n",
       "      <td>-38.882594</td>\n",
       "      <td>4.154038</td>\n",
       "      <td>5182.742662</td>\n",
       "    </tr>\n",
       "    <tr>\n",
       "      <th rowspan=\"12\" valign=\"top\">1</th>\n",
       "      <th>admin.</th>\n",
       "      <td>37.968935</td>\n",
       "      <td>517.414201</td>\n",
       "      <td>2.058432</td>\n",
       "      <td>773.512574</td>\n",
       "      <td>0.510355</td>\n",
       "      <td>-1.383210</td>\n",
       "      <td>93.319537</td>\n",
       "      <td>-39.545488</td>\n",
       "      <td>1.965078</td>\n",
       "      <td>5087.736760</td>\n",
       "    </tr>\n",
       "    <tr>\n",
       "      <th>blue-collar</th>\n",
       "      <td>39.200627</td>\n",
       "      <td>732.673981</td>\n",
       "      <td>2.156740</td>\n",
       "      <td>899.324451</td>\n",
       "      <td>0.269592</td>\n",
       "      <td>-0.487774</td>\n",
       "      <td>93.491480</td>\n",
       "      <td>-41.770846</td>\n",
       "      <td>2.915715</td>\n",
       "      <td>5139.410658</td>\n",
       "    </tr>\n",
       "    <tr>\n",
       "      <th>entrepreneur</th>\n",
       "      <td>41.935484</td>\n",
       "      <td>667.540323</td>\n",
       "      <td>2.064516</td>\n",
       "      <td>910.943548</td>\n",
       "      <td>0.250000</td>\n",
       "      <td>-0.745161</td>\n",
       "      <td>93.381153</td>\n",
       "      <td>-40.895161</td>\n",
       "      <td>2.818839</td>\n",
       "      <td>5134.504839</td>\n",
       "    </tr>\n",
       "    <tr>\n",
       "      <th>housemaid</th>\n",
       "      <td>52.650943</td>\n",
       "      <td>535.537736</td>\n",
       "      <td>1.896226</td>\n",
       "      <td>727.367925</td>\n",
       "      <td>0.575472</td>\n",
       "      <td>-1.437736</td>\n",
       "      <td>93.350934</td>\n",
       "      <td>-38.311321</td>\n",
       "      <td>1.908717</td>\n",
       "      <td>5080.316981</td>\n",
       "    </tr>\n",
       "    <tr>\n",
       "      <th>management</th>\n",
       "      <td>42.783537</td>\n",
       "      <td>543.804878</td>\n",
       "      <td>2.030488</td>\n",
       "      <td>786.929878</td>\n",
       "      <td>0.533537</td>\n",
       "      <td>-1.230793</td>\n",
       "      <td>93.306631</td>\n",
       "      <td>-39.456402</td>\n",
       "      <td>2.232896</td>\n",
       "      <td>5100.271037</td>\n",
       "    </tr>\n",
       "    <tr>\n",
       "      <th>retired</th>\n",
       "      <td>68.253456</td>\n",
       "      <td>420.235023</td>\n",
       "      <td>1.942396</td>\n",
       "      <td>712.937788</td>\n",
       "      <td>0.668203</td>\n",
       "      <td>-1.926267</td>\n",
       "      <td>93.245629</td>\n",
       "      <td>-37.542857</td>\n",
       "      <td>1.348569</td>\n",
       "      <td>5051.795392</td>\n",
       "    </tr>\n",
       "    <tr>\n",
       "      <th>self-employed</th>\n",
       "      <td>38.006711</td>\n",
       "      <td>622.020134</td>\n",
       "      <td>2.114094</td>\n",
       "      <td>878.859060</td>\n",
       "      <td>0.315436</td>\n",
       "      <td>-1.173154</td>\n",
       "      <td>93.288470</td>\n",
       "      <td>-40.377852</td>\n",
       "      <td>2.282242</td>\n",
       "      <td>5108.494631</td>\n",
       "    </tr>\n",
       "    <tr>\n",
       "      <th>services</th>\n",
       "      <td>36.077399</td>\n",
       "      <td>634.851393</td>\n",
       "      <td>2.232198</td>\n",
       "      <td>854.479876</td>\n",
       "      <td>0.365325</td>\n",
       "      <td>-0.743034</td>\n",
       "      <td>93.456598</td>\n",
       "      <td>-40.866873</td>\n",
       "      <td>2.631139</td>\n",
       "      <td>5121.504954</td>\n",
       "    </tr>\n",
       "    <tr>\n",
       "      <th>student</th>\n",
       "      <td>24.800000</td>\n",
       "      <td>403.316364</td>\n",
       "      <td>1.810909</td>\n",
       "      <td>656.116364</td>\n",
       "      <td>0.807273</td>\n",
       "      <td>-2.007636</td>\n",
       "      <td>93.289771</td>\n",
       "      <td>-38.957091</td>\n",
       "      <td>1.176313</td>\n",
       "      <td>5045.426182</td>\n",
       "    </tr>\n",
       "    <tr>\n",
       "      <th>technician</th>\n",
       "      <td>37.746575</td>\n",
       "      <td>553.190411</td>\n",
       "      <td>2.046575</td>\n",
       "      <td>793.676712</td>\n",
       "      <td>0.505479</td>\n",
       "      <td>-1.102055</td>\n",
       "      <td>93.374286</td>\n",
       "      <td>-40.003836</td>\n",
       "      <td>2.239584</td>\n",
       "      <td>5099.017123</td>\n",
       "    </tr>\n",
       "    <tr>\n",
       "      <th>unemployed</th>\n",
       "      <td>39.062500</td>\n",
       "      <td>471.451389</td>\n",
       "      <td>1.930556</td>\n",
       "      <td>702.333333</td>\n",
       "      <td>0.611111</td>\n",
       "      <td>-1.676389</td>\n",
       "      <td>93.318563</td>\n",
       "      <td>-38.881944</td>\n",
       "      <td>1.600444</td>\n",
       "      <td>5065.995833</td>\n",
       "    </tr>\n",
       "    <tr>\n",
       "      <th>unknown</th>\n",
       "      <td>47.054054</td>\n",
       "      <td>517.756757</td>\n",
       "      <td>2.405405</td>\n",
       "      <td>810.864865</td>\n",
       "      <td>0.621622</td>\n",
       "      <td>-1.205405</td>\n",
       "      <td>93.483270</td>\n",
       "      <td>-38.127027</td>\n",
       "      <td>2.325622</td>\n",
       "      <td>5095.240541</td>\n",
       "    </tr>\n",
       "  </tbody>\n",
       "</table>\n",
       "</div>"
      ],
      "text/plain": [
       "                       age    duration  campaign       pdays  previous  \\\n",
       "y job                                                                    \n",
       "0 admin.         38.219846  215.093385  2.707718  981.270783  0.141125   \n",
       "  blue-collar    39.582057  229.878018  2.588208  991.516365  0.111653   \n",
       "  entrepreneur   41.703453  225.632883  2.579580  987.813814  0.128378   \n",
       "  housemaid      44.705451  218.778826  2.722222  986.491614  0.089099   \n",
       "  management     42.309707  220.828197  2.532357  984.848613  0.140986   \n",
       "  retired        59.926128  224.263608  2.657076  960.369362  0.212286   \n",
       "  self-employed  40.176887  222.220912  2.724843  988.073113  0.123428   \n",
       "  services       38.090236  225.047998  2.619309  991.091607  0.136314   \n",
       "  student        26.396667  228.851667  2.238333  924.596667  0.395000   \n",
       "  technician     38.600033  213.452021  2.641776  985.135540  0.111093   \n",
       "  unemployed     39.844828  212.706897  2.668966  973.879310  0.131034   \n",
       "  unknown        45.375427  204.559727  2.679181  954.873720  0.095563   \n",
       "1 admin.         37.968935  517.414201  2.058432  773.512574  0.510355   \n",
       "  blue-collar    39.200627  732.673981  2.156740  899.324451  0.269592   \n",
       "  entrepreneur   41.935484  667.540323  2.064516  910.943548  0.250000   \n",
       "  housemaid      52.650943  535.537736  1.896226  727.367925  0.575472   \n",
       "  management     42.783537  543.804878  2.030488  786.929878  0.533537   \n",
       "  retired        68.253456  420.235023  1.942396  712.937788  0.668203   \n",
       "  self-employed  38.006711  622.020134  2.114094  878.859060  0.315436   \n",
       "  services       36.077399  634.851393  2.232198  854.479876  0.365325   \n",
       "  student        24.800000  403.316364  1.810909  656.116364  0.807273   \n",
       "  technician     37.746575  553.190411  2.046575  793.676712  0.505479   \n",
       "  unemployed     39.062500  471.451389  1.930556  702.333333  0.611111   \n",
       "  unknown        47.054054  517.756757  2.405405  810.864865  0.621622   \n",
       "\n",
       "                 emp_var_rate  cons_price_idx  cons_conf_idx  euribor3m  \\\n",
       "y job                                                                     \n",
       "0 admin.             0.224068       93.566030     -40.349768   3.786567   \n",
       "  blue-collar        0.303552       93.668887     -41.346565   3.835402   \n",
       "  entrepreneur       0.242868       93.626245     -41.319820   3.881632   \n",
       "  housemaid          0.641300       93.712759     -39.626834   4.243082   \n",
       "  management         0.141217       93.550062     -40.619992   3.785477   \n",
       "  retired           -0.283904       93.493273     -38.920762   3.249794   \n",
       "  self-employed      0.242610       93.591786     -40.501022   3.854206   \n",
       "  services           0.256720       93.650433     -41.327537   3.793805   \n",
       "  student           -1.133167       93.350790     -40.751500   2.208683   \n",
       "  technician         0.441693       93.584196     -39.918310   4.012318   \n",
       "  unemployed         0.147241       93.604369     -40.193908   3.775461   \n",
       "  unknown            0.555290       93.748703     -38.882594   4.154038   \n",
       "1 admin.            -1.383210       93.319537     -39.545488   1.965078   \n",
       "  blue-collar       -0.487774       93.491480     -41.770846   2.915715   \n",
       "  entrepreneur      -0.745161       93.381153     -40.895161   2.818839   \n",
       "  housemaid         -1.437736       93.350934     -38.311321   1.908717   \n",
       "  management        -1.230793       93.306631     -39.456402   2.232896   \n",
       "  retired           -1.926267       93.245629     -37.542857   1.348569   \n",
       "  self-employed     -1.173154       93.288470     -40.377852   2.282242   \n",
       "  services          -0.743034       93.456598     -40.866873   2.631139   \n",
       "  student           -2.007636       93.289771     -38.957091   1.176313   \n",
       "  technician        -1.102055       93.374286     -40.003836   2.239584   \n",
       "  unemployed        -1.676389       93.318563     -38.881944   1.600444   \n",
       "  unknown           -1.205405       93.483270     -38.127027   2.325622   \n",
       "\n",
       "                 nr_employed  \n",
       "y job                         \n",
       "0 admin.         5175.512051  \n",
       "  blue-collar    5178.296031  \n",
       "  entrepreneur   5180.205631  \n",
       "  housemaid      5190.553249  \n",
       "  management     5175.037442  \n",
       "  retired        5146.043313  \n",
       "  self-employed  5177.958019  \n",
       "  services       5176.038069  \n",
       "  student        5104.507500  \n",
       "  technician     5184.951705  \n",
       "  unemployed     5172.245172  \n",
       "  unknown        5182.742662  \n",
       "1 admin.         5087.736760  \n",
       "  blue-collar    5139.410658  \n",
       "  entrepreneur   5134.504839  \n",
       "  housemaid      5080.316981  \n",
       "  management     5100.271037  \n",
       "  retired        5051.795392  \n",
       "  self-employed  5108.494631  \n",
       "  services       5121.504954  \n",
       "  student        5045.426182  \n",
       "  technician     5099.017123  \n",
       "  unemployed     5065.995833  \n",
       "  unknown        5095.240541  "
      ]
     },
     "execution_count": 109,
     "metadata": {},
     "output_type": "execute_result"
    }
   ],
   "source": [
    "data.groupby(['y', 'job']).mean()"
   ]
  },
  {
   "cell_type": "code",
   "execution_count": 110,
   "metadata": {},
   "outputs": [
    {
     "data": {
      "text/html": [
       "<div>\n",
       "<table border=\"1\" class=\"dataframe\">\n",
       "  <thead>\n",
       "    <tr style=\"text-align: right;\">\n",
       "      <th></th>\n",
       "      <th></th>\n",
       "      <th>age</th>\n",
       "      <th>duration</th>\n",
       "      <th>campaign</th>\n",
       "      <th>pdays</th>\n",
       "      <th>previous</th>\n",
       "      <th>emp_var_rate</th>\n",
       "      <th>cons_price_idx</th>\n",
       "      <th>cons_conf_idx</th>\n",
       "      <th>euribor3m</th>\n",
       "      <th>nr_employed</th>\n",
       "    </tr>\n",
       "    <tr>\n",
       "      <th>y</th>\n",
       "      <th>marital</th>\n",
       "      <th></th>\n",
       "      <th></th>\n",
       "      <th></th>\n",
       "      <th></th>\n",
       "      <th></th>\n",
       "      <th></th>\n",
       "      <th></th>\n",
       "      <th></th>\n",
       "      <th></th>\n",
       "      <th></th>\n",
       "    </tr>\n",
       "  </thead>\n",
       "  <tbody>\n",
       "    <tr>\n",
       "      <th rowspan=\"4\" valign=\"top\">0</th>\n",
       "      <th>divorced</th>\n",
       "      <td>44.318907</td>\n",
       "      <td>219.339217</td>\n",
       "      <td>2.667311</td>\n",
       "      <td>988.922872</td>\n",
       "      <td>0.131044</td>\n",
       "      <td>0.307930</td>\n",
       "      <td>93.628370</td>\n",
       "      <td>-40.772655</td>\n",
       "      <td>3.887242</td>\n",
       "      <td>5179.247921</td>\n",
       "    </tr>\n",
       "    <tr>\n",
       "      <th>married</th>\n",
       "      <td>41.964145</td>\n",
       "      <td>221.204233</td>\n",
       "      <td>2.628550</td>\n",
       "      <td>986.273933</td>\n",
       "      <td>0.118637</td>\n",
       "      <td>0.332783</td>\n",
       "      <td>93.623935</td>\n",
       "      <td>-40.354773</td>\n",
       "      <td>3.914493</td>\n",
       "      <td>5179.883783</td>\n",
       "    </tr>\n",
       "    <tr>\n",
       "      <th>single</th>\n",
       "      <td>33.453458</td>\n",
       "      <td>220.417270</td>\n",
       "      <td>2.623341</td>\n",
       "      <td>977.348412</td>\n",
       "      <td>0.163249</td>\n",
       "      <td>0.037817</td>\n",
       "      <td>93.548650</td>\n",
       "      <td>-41.048452</td>\n",
       "      <td>3.550635</td>\n",
       "      <td>5166.602815</td>\n",
       "    </tr>\n",
       "    <tr>\n",
       "      <th>unknown</th>\n",
       "      <td>40.397059</td>\n",
       "      <td>256.588235</td>\n",
       "      <td>3.470588</td>\n",
       "      <td>969.941176</td>\n",
       "      <td>0.220588</td>\n",
       "      <td>-0.101471</td>\n",
       "      <td>93.522868</td>\n",
       "      <td>-41.548529</td>\n",
       "      <td>3.441971</td>\n",
       "      <td>5163.610294</td>\n",
       "    </tr>\n",
       "    <tr>\n",
       "      <th rowspan=\"4\" valign=\"top\">1</th>\n",
       "      <th>divorced</th>\n",
       "      <td>49.943277</td>\n",
       "      <td>553.138655</td>\n",
       "      <td>2.144958</td>\n",
       "      <td>792.399160</td>\n",
       "      <td>0.495798</td>\n",
       "      <td>-1.086765</td>\n",
       "      <td>93.417082</td>\n",
       "      <td>-40.137185</td>\n",
       "      <td>2.224223</td>\n",
       "      <td>5098.157353</td>\n",
       "    </tr>\n",
       "    <tr>\n",
       "      <th>married</th>\n",
       "      <td>45.341232</td>\n",
       "      <td>577.938389</td>\n",
       "      <td>2.079779</td>\n",
       "      <td>798.956951</td>\n",
       "      <td>0.482622</td>\n",
       "      <td>-1.135703</td>\n",
       "      <td>93.362369</td>\n",
       "      <td>-39.526659</td>\n",
       "      <td>2.253996</td>\n",
       "      <td>5100.777646</td>\n",
       "    </tr>\n",
       "    <tr>\n",
       "      <th>single</th>\n",
       "      <td>31.348765</td>\n",
       "      <td>513.952469</td>\n",
       "      <td>1.983951</td>\n",
       "      <td>781.414815</td>\n",
       "      <td>0.506790</td>\n",
       "      <td>-1.431790</td>\n",
       "      <td>93.324788</td>\n",
       "      <td>-40.121914</td>\n",
       "      <td>1.885499</td>\n",
       "      <td>5085.173025</td>\n",
       "    </tr>\n",
       "    <tr>\n",
       "      <th>unknown</th>\n",
       "      <td>39.583333</td>\n",
       "      <td>630.833333</td>\n",
       "      <td>1.583333</td>\n",
       "      <td>751.000000</td>\n",
       "      <td>0.583333</td>\n",
       "      <td>-0.900000</td>\n",
       "      <td>93.178750</td>\n",
       "      <td>-36.691667</td>\n",
       "      <td>2.582417</td>\n",
       "      <td>5122.166667</td>\n",
       "    </tr>\n",
       "  </tbody>\n",
       "</table>\n",
       "</div>"
      ],
      "text/plain": [
       "                  age    duration  campaign       pdays  previous  \\\n",
       "y marital                                                           \n",
       "0 divorced  44.318907  219.339217  2.667311  988.922872  0.131044   \n",
       "  married   41.964145  221.204233  2.628550  986.273933  0.118637   \n",
       "  single    33.453458  220.417270  2.623341  977.348412  0.163249   \n",
       "  unknown   40.397059  256.588235  3.470588  969.941176  0.220588   \n",
       "1 divorced  49.943277  553.138655  2.144958  792.399160  0.495798   \n",
       "  married   45.341232  577.938389  2.079779  798.956951  0.482622   \n",
       "  single    31.348765  513.952469  1.983951  781.414815  0.506790   \n",
       "  unknown   39.583333  630.833333  1.583333  751.000000  0.583333   \n",
       "\n",
       "            emp_var_rate  cons_price_idx  cons_conf_idx  euribor3m  \\\n",
       "y marital                                                            \n",
       "0 divorced      0.307930       93.628370     -40.772655   3.887242   \n",
       "  married       0.332783       93.623935     -40.354773   3.914493   \n",
       "  single        0.037817       93.548650     -41.048452   3.550635   \n",
       "  unknown      -0.101471       93.522868     -41.548529   3.441971   \n",
       "1 divorced     -1.086765       93.417082     -40.137185   2.224223   \n",
       "  married      -1.135703       93.362369     -39.526659   2.253996   \n",
       "  single       -1.431790       93.324788     -40.121914   1.885499   \n",
       "  unknown      -0.900000       93.178750     -36.691667   2.582417   \n",
       "\n",
       "            nr_employed  \n",
       "y marital                \n",
       "0 divorced  5179.247921  \n",
       "  married   5179.883783  \n",
       "  single    5166.602815  \n",
       "  unknown   5163.610294  \n",
       "1 divorced  5098.157353  \n",
       "  married   5100.777646  \n",
       "  single    5085.173025  \n",
       "  unknown   5122.166667  "
      ]
     },
     "execution_count": 110,
     "metadata": {},
     "output_type": "execute_result"
    }
   ],
   "source": [
    "data.groupby(['y', 'marital']).mean()"
   ]
  },
  {
   "cell_type": "code",
   "execution_count": 111,
   "metadata": {},
   "outputs": [
    {
     "data": {
      "image/png": "[encoded data removed]",
      "text/plain": [
       "<matplotlib.figure.Figure at 0x7f6a33b48d68>"
      ]
     },
     "metadata": {},
     "output_type": "display_data"
    }
   ],
   "source": [
    "pd.crosstab(data.job, data.y).apply(lambda r: r/r.sum(), axis=1).plot(kind='bar')\n",
    "plt.title('Purchase Frequency for Job Title')\n",
    "plt.xlabel('Job')\n",
    "plt.ylabel('Frequency of Purchase')\n",
    "plt.show()"
   ]
  },
  {
   "cell_type": "code",
   "execution_count": 112,
   "metadata": {},
   "outputs": [
    {
     "data": {
      "image/png": "[encoded data removed]",
      "text/plain": [
       "<matplotlib.figure.Figure at 0x7f6a33d8c9e8>"
      ]
     },
     "metadata": {},
     "output_type": "display_data"
    }
   ],
   "source": [
    "pd.crosstab(data.marital, data.y).apply(lambda r: r/r.sum(), axis=1).plot(kind='bar')\n",
    "plt.title('Bar Chart of Marital Status vs Purchase')\n",
    "plt.xlabel('Marital Status')\n",
    "plt.ylabel('Proportion of Customers')\n",
    "plt.show()"
   ]
  },
  {
   "cell_type": "code",
   "execution_count": 113,
   "metadata": {},
   "outputs": [
    {
     "data": {
      "image/png": "[encoded data removed]",
      "text/plain": [
       "<matplotlib.figure.Figure at 0x7f6a33d0a048>"
      ]
     },
     "metadata": {},
     "output_type": "display_data"
    }
   ],
   "source": [
    "pd.crosstab(data.education, data.y).apply(lambda r: r/r.sum(), axis=1).plot(kind='bar')\n",
    "plt.title('Bar Chart of Education vs Purchase')\n",
    "plt.xlabel('Education')\n",
    "plt.ylabel('Proportion of Customers')\n",
    "plt.show()"
   ]
  },
  {
   "cell_type": "code",
   "execution_count": 114,
   "metadata": {},
   "outputs": [
    {
     "data": {
      "image/png": "[encoded data removed]",
      "text/plain": [
       "<matplotlib.figure.Figure at 0x7f6a33aca898>"
      ]
     },
     "metadata": {},
     "output_type": "display_data"
    }
   ],
   "source": [
    "pd.crosstab(data.day_of_week,data.y).apply(lambda r: r/r.sum(), axis=1).plot(kind='bar')\n",
    "plt.title('Purchase Frequency for Day of Week')\n",
    "plt.xlabel('Day of Week')\n",
    "plt.ylabel('Frequency of Purchase')\n",
    "plt.show()"
   ]
  },
  {
   "cell_type": "code",
   "execution_count": 115,
   "metadata": {},
   "outputs": [
    {
     "data": {
      "image/png": "[encoded data removed]",
      "text/plain": [
       "<matplotlib.figure.Figure at 0x7f6a41aafcc0>"
      ]
     },
     "metadata": {},
     "output_type": "display_data"
    }
   ],
   "source": [
    "pd.crosstab(data.month,data.y).apply(lambda r: r/r.sum(), axis=1).plot(kind='bar')\n",
    "plt.title('Purchase Frequency for Month')\n",
    "plt.xlabel('Month')\n",
    "plt.ylabel('Frequency of Purchase')\n",
    "plt.show()"
   ]
  },
  {
   "cell_type": "code",
   "execution_count": 116,
   "metadata": {},
   "outputs": [
    {
     "data": {
      "image/png": "[encoded data removed]",
      "text/plain": [
       "<matplotlib.figure.Figure at 0x7f6a33e50860>"
      ]
     },
     "metadata": {},
     "output_type": "display_data"
    }
   ],
   "source": [
    "data.age.hist()\n",
    "plt.title('Age Histogram')\n",
    "plt.xlabel('Age')\n",
    "plt.ylabel('Frequency')\n",
    "plt.show()"
   ]
  },
  {
   "cell_type": "code",
   "execution_count": 117,
   "metadata": {},
   "outputs": [
    {
     "data": {
      "image/png": "[encoded data removed]",
      "text/plain": [
       "<matplotlib.figure.Figure at 0x7f6a33e1af98>"
      ]
     },
     "metadata": {},
     "output_type": "display_data"
    }
   ],
   "source": [
    "pd.crosstab(data.poutcome,data.y).apply(lambda r: r/r.sum(), axis=1).plot(kind='bar')\n",
    "plt.title('Purchase Frequency for Poutcome')\n",
    "plt.xlabel('Poutcome')\n",
    "plt.ylabel('Frequency of Purchase')\n",
    "plt.show()"
   ]
  },
  {
   "cell_type": "code",
   "execution_count": 118,
   "metadata": {},
   "outputs": [],
   "source": [
    "data_final = pd.get_dummies(data, prefix=['job','marital','education','default','housing','loan','contact','month','day_of_week','poutcome'], columns=['job','marital','education','default','housing','loan','contact','month','day_of_week','poutcome'])"
   ]
  },
  {
   "cell_type": "code",
   "execution_count": 119,
   "metadata": {},
   "outputs": [
    {
     "data": {
      "text/plain": [
       "array(['age', 'duration', 'campaign', 'pdays', 'previous', 'emp_var_rate',\n",
       "       'cons_price_idx', 'cons_conf_idx', 'euribor3m', 'nr_employed', 'y',\n",
       "       'job_admin.', 'job_blue-collar', 'job_entrepreneur',\n",
       "       'job_housemaid', 'job_management', 'job_retired',\n",
       "       'job_self-employed', 'job_services', 'job_student',\n",
       "       'job_technician', 'job_unemployed', 'job_unknown',\n",
       "       'marital_divorced', 'marital_married', 'marital_single',\n",
       "       'marital_unknown', 'education_Basic', 'education_high.school',\n",
       "       'education_illiterate', 'education_professional.course',\n",
       "       'education_university.degree', 'education_unknown', 'default_no',\n",
       "       'default_unknown', 'default_yes', 'housing_no', 'housing_unknown',\n",
       "       'housing_yes', 'loan_no', 'loan_unknown', 'loan_yes',\n",
       "       'contact_cellular', 'contact_telephone', 'month_apr', 'month_aug',\n",
       "       'month_dec', 'month_jul', 'month_jun', 'month_mar', 'month_may',\n",
       "       'month_nov', 'month_oct', 'month_sep', 'day_of_week_fri',\n",
       "       'day_of_week_mon', 'day_of_week_thu', 'day_of_week_tue',\n",
       "       'day_of_week_wed', 'poutcome_failure', 'poutcome_nonexistent',\n",
       "       'poutcome_success'], dtype=object)"
      ]
     },
     "execution_count": 119,
     "metadata": {},
     "output_type": "execute_result"
    }
   ],
   "source": [
    "data_final.columns.values"
   ]
  },
  {
   "cell_type": "code",
   "execution_count": 120,
   "metadata": {},
   "outputs": [],
   "source": [
    "final_data_cols=data_final.columns.values.tolist()\n",
    "y=['y']\n",
    "X=[i for i in final_data_cols if i!='y']"
   ]
  },
  {
   "cell_type": "code",
   "execution_count": 121,
   "metadata": {},
   "outputs": [
    {
     "name": "stdout",
     "output_type": "stream",
     "text": [
      "[False False False False  True False False False  True False False  True\n",
      " False False False  True False  True  True False False False False False\n",
      " False False False False False False False False  True False False False\n",
      " False False False False False False  True  True  True  True False False\n",
      "  True  True  True False False False  True False False False  True  True\n",
      "  True]\n",
      "[35 33 15 40  1 18 20 22  1 31 14  1  8 39 42  1 28  1  1 24 26 41  3  4  5\n",
      " 43  9 10 38 11 29 23  1  6 44 36 16 37 21 19 17  7  1  1  1  1 25 27  1  1\n",
      "  1 32 13 12  1 34 30  2  1  1  1]\n"
     ]
    }
   ],
   "source": [
    "# create a base classifier used to evaluate a subset of attributes\n",
    "model = LogisticRegression()\n",
    "# create the RFE model and select 3 attributes\n",
    "rfe = RFE(model, 18)\n",
    "rfe = rfe.fit(data_final[X], data_final[y].values.ravel())\n",
    "# summarize the selection of the attributes\n",
    "print(rfe.support_)\n",
    "print(rfe.ranking_)"
   ]
  },
  {
   "cell_type": "code",
   "execution_count": 122,
   "metadata": {},
   "outputs": [],
   "source": [
    "final_cols=[\"previous\", \"euribor3m\", \"job_blue-collar\", \"job_retired\", \"job_services\", \"job_student\", \"default_no\", \n",
    "      \"month_aug\", \"month_dec\", \"month_jul\", \"month_nov\", \"month_oct\", \"month_sep\", \"day_of_week_fri\", \"day_of_week_wed\", \n",
    "      \"poutcome_failure\", \"poutcome_nonexistent\", \"poutcome_success\"] \n",
    "Features=data_final[final_cols]\n",
    "labels=data_final.y"
   ]
  },
  {
   "cell_type": "code",
   "execution_count": 123,
   "metadata": {},
   "outputs": [
    {
     "name": "stdout",
     "output_type": "stream",
     "text": [
      "Optimization terminated successfully.\n",
      "         Current function value: 0.287116\n",
      "         Iterations 7\n",
      "                           Logit Regression Results                           \n",
      "==============================================================================\n",
      "Dep. Variable:                      y   No. Observations:                41188\n",
      "Model:                          Logit   Df Residuals:                    41170\n",
      "Method:                           MLE   Df Model:                           17\n",
      "Date:                Fri, 02 Mar 2018   Pseudo R-squ.:                  0.1844\n",
      "Time:                        23:23:41   Log-Likelihood:                -11826.\n",
      "converged:                       True   LL-Null:                       -14499.\n",
      "                                        LLR p-value:                     0.000\n",
      "========================================================================================\n",
      "                           coef    std err          z      P>|z|      [0.025      0.975]\n",
      "----------------------------------------------------------------------------------------\n",
      "previous                 0.2385      0.051      4.642      0.000       0.138       0.339\n",
      "euribor3m               -0.4981      0.012    -40.386      0.000      -0.522      -0.474\n",
      "job_blue-collar         -0.3222      0.049     -6.549      0.000      -0.419      -0.226\n",
      "job_retired              0.3821      0.069      5.552      0.000       0.247       0.517\n",
      "job_services            -0.2423      0.065     -3.701      0.000      -0.371      -0.114\n",
      "job_student              0.3540      0.086      4.107      0.000       0.185       0.523\n",
      "default_no               0.3312      0.056      5.943      0.000       0.222       0.440\n",
      "month_aug                0.4272      0.055      7.770      0.000       0.319       0.535\n",
      "month_dec                0.8061      0.163      4.948      0.000       0.487       1.125\n",
      "month_jul                0.7319      0.056     13.094      0.000       0.622       0.841\n",
      "month_nov                0.2706      0.064      4.249      0.000       0.146       0.395\n",
      "month_oct                0.8043      0.087      9.258      0.000       0.634       0.975\n",
      "month_sep                0.5906      0.096      6.160      0.000       0.403       0.778\n",
      "day_of_week_fri         -0.0044      0.046     -0.097      0.923      -0.094       0.085\n",
      "day_of_week_wed          0.1226      0.044      2.771      0.006       0.036       0.209\n",
      "poutcome_failure        -1.8438      0.100    -18.412      0.000      -2.040      -1.647\n",
      "poutcome_nonexistent    -1.1344      0.070    -16.253      0.000      -1.271      -0.998\n",
      "poutcome_success         0.0912      0.114      0.803      0.422      -0.131       0.314\n",
      "========================================================================================\n"
     ]
    }
   ],
   "source": [
    "logit_model=sm.Logit(labels,Features)\n",
    "result=logit_model.fit()\n",
    "print(result.summary())"
   ]
  },
  {
   "cell_type": "code",
   "execution_count": 125,
   "metadata": {},
   "outputs": [
    {
     "data": {
      "text/plain": [
       "LogisticRegression(C=1.0, class_weight=None, dual=False, fit_intercept=True,\n",
       "          intercept_scaling=1, max_iter=100, multi_class='ovr', n_jobs=1,\n",
       "          penalty='l2', random_state=None, solver='liblinear', tol=0.0001,\n",
       "          verbose=0, warm_start=False)"
      ]
     },
     "execution_count": 125,
     "metadata": {},
     "output_type": "execute_result"
    }
   ],
   "source": [
    "X_train, X_test, y_train, y_test = train_test_split(Features, labels, test_size=0.3, random_state=0)\n",
    "logreg = LogisticRegression()\n",
    "logreg.fit(X_train, y_train)"
   ]
  },
  {
   "cell_type": "code",
   "execution_count": 126,
   "metadata": {},
   "outputs": [
    {
     "name": "stdout",
     "output_type": "stream",
     "text": [
      "Accuracy of logistic regression classifier on test set: 0.90\n"
     ]
    }
   ],
   "source": [
    "y_pred = logreg.predict(X_test)\n",
    "print('Accuracy of logistic regression classifier on test set: {:.2f}'.format(logreg.score(X_test, y_test)))"
   ]
  },
  {
   "cell_type": "code",
   "execution_count": 127,
   "metadata": {},
   "outputs": [
    {
     "name": "stdout",
     "output_type": "stream",
     "text": [
      "10-fold cross validation average accuracy: 0.897\n"
     ]
    }
   ],
   "source": [
    "results = model_selection.cross_val_score(LogisticRegression(), X_train, y_train, cv=model_selection.KFold(n_splits=10, random_state=10), scoring='accuracy')\n",
    "print(\"10-fold cross validation average accuracy: %.3f\" % (results.mean()))"
   ]
  },
  {
   "cell_type": "code",
   "execution_count": 133,
   "metadata": {},
   "outputs": [
    {
     "name": "stdout",
     "output_type": "stream",
     "text": [
      "The Confusion Matrix is:\n",
      "[[10872   109]\n",
      " [ 1122   254]]\n"
     ]
    }
   ],
   "source": [
    "conf_matrix = confusion_matrix(y_test, y_pred)\n",
    "print(\"The Confusion Matrix is:\")\n",
    "print(conf_matrix)"
   ]
  },
  {
   "cell_type": "code",
   "execution_count": 129,
   "metadata": {},
   "outputs": [
    {
     "name": "stdout",
     "output_type": "stream",
     "text": [
      "             precision    recall  f1-score   support\n",
      "\n",
      "          0       0.91      0.99      0.95     10981\n",
      "          1       0.70      0.18      0.29      1376\n",
      "\n",
      "avg / total       0.88      0.90      0.87     12357\n",
      "\n"
     ]
    }
   ],
   "source": [
    "print(classification_report(y_test, y_pred))"
   ]
  },
  {
   "cell_type": "code",
   "execution_count": 131,
   "metadata": {},
   "outputs": [
    {
     "data": {
      "image/png": "[encoded data removed]",
      "text/plain": [
       "<matplotlib.figure.Figure at 0x7f6a41bb20f0>"
      ]
     },
     "metadata": {},
     "output_type": "display_data"
    }
   ],
   "source": [
    "logit_roc_auc = roc_auc_score(y_test, logreg.predict(X_test))\n",
    "fpr, tpr, thresholds = roc_curve(y_test, logreg.predict_proba(X_test)[:,1])\n",
    "plt.figure()\n",
    "plt.plot(fpr, tpr, label='Logistic Regression (area = %0.2f)' % logit_roc_auc)\n",
    "plt.plot([0, 1], [0, 1],'r--')\n",
    "plt.xlim([0.0, 1.0])\n",
    "plt.ylim([0.0, 1.05])\n",
    "plt.xlabel('False Positive Rate')\n",
    "plt.ylabel('True Positive Rate')\n",
    "plt.title('Receiver operating characteristic')\n",
    "plt.legend(loc=\"lower right\")\n",
    "plt.show()"
   ]
  }
 ],
 "metadata": {
  "kernelspec": {
   "display_name": "Python 3",
   "language": "python",
   "name": "python3"
  },
  "language_info": {
   "codemirror_mode": {
    "name": "ipython",
    "version": 3
   },
   "file_extension": ".py",
   "mimetype": "text/x-python",
   "name": "python",
   "nbconvert_exporter": "python",
   "pygments_lexer": "ipython3",
   "version": "3.6.3"
  }
 },
 "nbformat": 4,
 "nbformat_minor": 2
}
