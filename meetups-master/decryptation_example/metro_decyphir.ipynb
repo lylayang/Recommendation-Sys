{
 "cells": [
  {
   "cell_type": "code",
   "execution_count": null,
   "metadata": {
    "collapsed": true,
    "deletable": true,
    "editable": true
   },
   "outputs": [],
   "source": [
    "from numpy.random import choice\n",
    "from string import ascii_lowercase\n",
    "import re\n",
    "import numpy as np\n",
    "import pandas as pd\n",
    "import pickle\n",
    "import seaborn as sns\n",
    "import matplotlib.pyplot as plt"
   ]
  },
  {
   "cell_type": "code",
   "execution_count": null,
   "metadata": {
    "collapsed": true,
    "deletable": true,
    "editable": true
   },
   "outputs": [],
   "source": [
    "con = open('war_and_peace.txt', 'r')       # load data\n",
    "train = con.read()"
   ]
  },
  {
   "cell_type": "code",
   "execution_count": null,
   "metadata": {
    "collapsed": true,
    "deletable": true,
    "editable": true
   },
   "outputs": [],
   "source": [
    "train = train.lower()                      # make lowercase\n",
    "train = re.sub(r'\\s+', ' ', train)         # get rid of extra whitespace and newlines"
   ]
  },
  {
   "cell_type": "code",
   "execution_count": null,
   "metadata": {
    "collapsed": false,
    "deletable": true,
    "editable": true
   },
   "outputs": [],
   "source": [
    "train[5500:5800]"
   ]
  },
  {
   "cell_type": "markdown",
   "metadata": {
    "deletable": true,
    "editable": true
   },
   "source": [
    "Transition Probability Matrix:"
   ]
  },
  {
   "cell_type": "code",
   "execution_count": null,
   "metadata": {
    "collapsed": false,
    "deletable": true,
    "editable": true
   },
   "outputs": [],
   "source": [
    "letters = [i for i in ascii_lowercase]\n",
    "letters.append('_')                         # _ presents any non-letter character\n",
    "letters"
   ]
  },
  {
   "cell_type": "code",
   "execution_count": null,
   "metadata": {
    "collapsed": false,
    "deletable": true,
    "editable": true
   },
   "outputs": [],
   "source": [
    "trans_matrix = pd.DataFrame(np.zeros((27, 27), dtype=int), index=letters, columns=letters)\n",
    "trans_matrix"
   ]
  },
  {
   "cell_type": "markdown",
   "metadata": {
    "deletable": true,
    "editable": true
   },
   "source": [
    "Populating Transition Probability Matrix:"
   ]
  },
  {
   "cell_type": "code",
   "execution_count": null,
   "metadata": {
    "collapsed": false,
    "deletable": true,
    "editable": true
   },
   "outputs": [],
   "source": [
    "for i in range(len(train) - 1):\n",
    "\n",
    "    if i % 100000 == 0:\n",
    "        print('processed first %i characters out of 3210812' % i)\n",
    "\n",
    "    if train[i] in letters:\n",
    "        current_letter = train[i]                  # the preceding letter\n",
    "    else:\n",
    "        current_letter = '_'                       # if not letter, assign non-letter character # if not letter, assign non-letter character\n",
    "\n",
    "    if train[i + 1] in letters:\n",
    "        last_letter = train[i + 1]                  # the succeeding letter\n",
    "    else:\n",
    "        last_letter = '_'                           # if not letter, assign non-letter character # if not letter, assign non-letter character\n",
    "\n",
    "    trans_matrix.loc[current_letter, last_letter] = trans_matrix.loc[current_letter, last_letter] + 1"
   ]
  },
  {
   "cell_type": "code",
   "execution_count": null,
   "metadata": {
    "collapsed": false,
    "deletable": true,
    "editable": true
   },
   "outputs": [],
   "source": [
    "trans_matrix = trans_matrix + 1             # allowing log and any combination of letters\n",
    "trans_matrix"
   ]
  },
  {
   "cell_type": "code",
   "execution_count": null,
   "metadata": {
    "collapsed": true,
    "deletable": true,
    "editable": true
   },
   "outputs": [],
   "source": [
    "for i in range(trans_matrix.shape[0]):                   # Normalize by Row_Sum to turn into Probability\n",
    "    trans_matrix.iloc[i, :] = trans_matrix.iloc[i, :] / trans_matrix.iloc[i, :].sum()"
   ]
  },
  {
   "cell_type": "code",
   "execution_count": null,
   "metadata": {
    "collapsed": false,
    "deletable": true,
    "editable": true
   },
   "outputs": [],
   "source": [
    "sns.heatmap(trans_matrix)\n",
    "plt.yticks(rotation=0)\n",
    "plt.show()"
   ]
  },
  {
   "cell_type": "code",
   "execution_count": null,
   "metadata": {
    "collapsed": true,
    "deletable": true,
    "editable": true
   },
   "outputs": [],
   "source": [
    "def decode(mapping, coded):                             # function to decode text, given mapping and coded text\n",
    "    text = []\n",
    "    for i in coded:\n",
    "        if i in letters:\n",
    "            text.append(letters[mapping.index(i)])\n",
    "        else:\n",
    "            text.append(letters[mapping.index('_')])\n",
    "    return ''.join(text)"
   ]
  },
  {
   "cell_type": "code",
   "execution_count": null,
   "metadata": {
    "collapsed": true,
    "deletable": true,
    "editable": true
   },
   "outputs": [],
   "source": [
    "def encode(mapping, text):                              # function to encode text, given mapping and plain text\n",
    "    encoded = []\n",
    "    for i in text:\n",
    "        if i in letters:\n",
    "            encoded.append(mapping[letters.index(i)])\n",
    "        else:\n",
    "            encoded.append(mapping[letters.index('_')])\n",
    "    return ''.join(encoded)"
   ]
  },
  {
   "cell_type": "code",
   "execution_count": null,
   "metadata": {
    "collapsed": true,
    "deletable": true,
    "editable": true
   },
   "outputs": [],
   "source": [
    "def loglike(decoded):                                   # function to calculate Log-like of decoded text\n",
    "    loglike = 0\n",
    "    last_letter = '_'\n",
    "    for i in decoded:\n",
    "        current_letter = i\n",
    "        loglike = loglike + np.log(trans_matrix.loc[last_letter, current_letter])\n",
    "        last_letter = current_letter\n",
    "    loglike = loglike + np.log(trans_matrix.loc[last_letter, '_'])\n",
    "    return loglike"
   ]
  },
  {
   "cell_type": "code",
   "execution_count": null,
   "metadata": {
    "collapsed": true,
    "deletable": true,
    "editable": true
   },
   "outputs": [],
   "source": [
    "np.random.seed(12345)                          # set seed for reproducing"
   ]
  },
  {
   "cell_type": "markdown",
   "metadata": {
    "deletable": true,
    "editable": true
   },
   "source": [
    "Randomly Scramble to create Encoding Rule (True Mapping, Pretend we dont know):"
   ]
  },
  {
   "cell_type": "code",
   "execution_count": null,
   "metadata": {
    "collapsed": false,
    "deletable": true,
    "editable": true
   },
   "outputs": [],
   "source": [
    "mapping_true = list(choice(letters, 27, replace=False))\n",
    "mapping_true"
   ]
  },
  {
   "cell_type": "markdown",
   "metadata": {
    "deletable": true,
    "editable": true
   },
   "source": [
    "Martin Luther King Jr, Speech:"
   ]
  },
  {
   "cell_type": "code",
   "execution_count": null,
   "metadata": {
    "collapsed": true,
    "deletable": true,
    "editable": true
   },
   "outputs": [],
   "source": [
    "correct_txt = ('Five score years ago, a great American, in whose symbolic shadow we stand today, signed the Emancipation Proclamation.'\n",
    "               ' This momentous decree came as a great beacon light of hope to millions of poor slaves who had been seared in the flames'\n",
    "               ' of withering injustice. It came as a joyous daybreak to end the long night of their captivity').lower()"
   ]
  },
  {
   "cell_type": "code",
   "execution_count": null,
   "metadata": {
    "collapsed": false,
    "deletable": true,
    "editable": true
   },
   "outputs": [],
   "source": [
    "correct_txt       # decode text, and lets see if Metropolis can decipher this"
   ]
  },
  {
   "cell_type": "code",
   "execution_count": null,
   "metadata": {
    "collapsed": true,
    "deletable": true,
    "editable": true
   },
   "outputs": [],
   "source": [
    "encoded = encode(mapping_true, correct_txt)            # Encoded based on True mapping"
   ]
  },
  {
   "cell_type": "code",
   "execution_count": null,
   "metadata": {
    "collapsed": false,
    "deletable": true,
    "editable": true
   },
   "outputs": [],
   "source": [
    "encoded"
   ]
  },
  {
   "cell_type": "code",
   "execution_count": null,
   "metadata": {
    "collapsed": true,
    "deletable": true,
    "editable": true
   },
   "outputs": [],
   "source": [
    "mapping0 = list(choice(letters, 27, replace=False))      # set the initial mapping\n",
    "current_loglik = loglike(decode(mapping0, encoded))\n",
    "\n",
    "max_loglik = current_loglik                              # best loglikehood so far      \n",
    "max_decode = decode(mapping0, encoded)                   # best decoded text so far"
   ]
  },
  {
   "cell_type": "code",
   "execution_count": null,
   "metadata": {
    "collapsed": false,
    "deletable": true,
    "editable": true
   },
   "outputs": [],
   "source": [
    "mapping0                 # very different from True Mapping"
   ]
  },
  {
   "cell_type": "markdown",
   "metadata": {
    "deletable": true,
    "editable": true
   },
   "source": [
    "Metropolis Begins Here:"
   ]
  },
  {
   "cell_type": "code",
   "execution_count": null,
   "metadata": {
    "collapsed": false,
    "deletable": true,
    "editable": true
   },
   "outputs": [],
   "source": [
    "while i <= 5000:\n",
    "\n",
    "    tmp = choice(letters, size=2, replace=False)\n",
    "\n",
    "    pos1, pos2 = mapping0.index(tmp[0]), mapping0.index(tmp[1])   # randomly swap 2 letters\n",
    "\n",
    "    mapping_proposed = mapping0[:]                                # create a proposed mapping\n",
    "    mapping_proposed[pos1], mapping_proposed[pos2] = mapping_proposed[pos2], mapping_proposed[pos1]\n",
    "\n",
    "    proposed_loglik = loglike(decode(mapping_proposed, encoded))   # loglikehood of proposed mapping\n",
    "\n",
    "    if (np.random.uniform() < np.exp(proposed_loglik - current_loglik)):   # NRG to decide accept or not\n",
    "        mapping0 = mapping_proposed\n",
    "        current_loglik = proposed_loglik\n",
    "\n",
    "        if current_loglik > max_loglik:\n",
    "            max_loglik = current_loglik\n",
    "            max_decode = decode(mapping_proposed, encoded)\n",
    "\n",
    "            i += 1\n",
    "\n",
    "        print(i, decode(mapping0, encoded), '\\n')"
   ]
  },
  {
   "cell_type": "code",
   "execution_count": null,
   "metadata": {
    "collapsed": true,
    "deletable": true,
    "editable": true
   },
   "outputs": [],
   "source": []
  }
 ],
 "metadata": {
  "kernelspec": {
   "display_name": "Python 3",
   "language": "python",
   "name": "python3"
  },
  "language_info": {
   "codemirror_mode": {
    "name": "ipython",
    "version": 3
   },
   "file_extension": ".py",
   "mimetype": "text/x-python",
   "name": "python",
   "nbconvert_exporter": "python",
   "pygments_lexer": "ipython3",
   "version": "3.6.0"
  }
 },
 "nbformat": 4,
 "nbformat_minor": 2
}
